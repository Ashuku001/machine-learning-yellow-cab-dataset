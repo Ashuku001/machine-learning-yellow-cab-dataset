{
 "cells": [
  {
   "cell_type": "code",
   "execution_count": 2,
   "metadata": {},
   "outputs": [],
   "source": [
    "import pandas as pd\n",
    "import matplotlib.pyplot as plt\n",
    "import numpy as np\n",
    "import warnings\n",
    "import statsmodels.api as smg\n",
    "import seaborn as sns\n",
    "import tensorboard"
   ]
  },
  {
   "cell_type": "code",
   "execution_count": 3,
   "metadata": {},
   "outputs": [],
   "source": [
    "### Load stratified data\n",
    "strat_splits = []\n",
    "for i in range(10):\n",
    "    split = []\n",
    "    for j in range(2):\n",
    "        split.append(pd.read_pickle(f'pickled-data/df_{i}-{j}.pkl'))\n",
    "    strat_splits.append(split)"
   ]
  },
  {
   "cell_type": "code",
   "execution_count": 4,
   "metadata": {},
   "outputs": [],
   "source": [
    "strat_train_set, strat_test_set = strat_splits[0] # train with 100000 for reasonable amount of training\n",
    "strat_train_set = strat_train_set[:100000]\n",
    "strat_test_set = strat_test_set[:20000]"
   ]
  },
  {
   "cell_type": "code",
   "execution_count": 5,
   "metadata": {},
   "outputs": [],
   "source": [
    "# trainining data\n",
    "trips_train = strat_train_set.drop(columns=['trip_duration'])          # predictors\n",
    "trips_train_label = strat_train_set[\"trip_duration\"]            # targets\n",
    "trips_train_label = trips_train_label/pd.Timedelta(minutes=1)"
   ]
  },
  {
   "cell_type": "code",
   "execution_count": 6,
   "metadata": {},
   "outputs": [],
   "source": [
    "# validating data\n",
    "trips_test = strat_test_set.drop(columns=['trip_duration'])          # predictors\n",
    "trips_test_label = strat_test_set[\"trip_duration\"]           # targets\n",
    "trips_test_label = trips_test_label/pd.Timedelta(minutes=1)"
   ]
  },
  {
   "cell_type": "markdown",
   "metadata": {},
   "source": [
    "#### Preprocess the features"
   ]
  },
  {
   "cell_type": "code",
   "execution_count": 7,
   "metadata": {},
   "outputs": [],
   "source": [
    "def extract_features(trips):\n",
    "    trips['pickup_weekday'] = trips['tpep_pickup_datetime'].dt.weekday\n",
    "    trips['pickup_hour'] = trips['tpep_pickup_datetime'].dt.hour\n",
    "    trips['pickup_minute'] = trips['tpep_pickup_datetime'].dt.minute\n",
    "    return trips"
   ]
  },
  {
   "cell_type": "code",
   "execution_count": 8,
   "metadata": {},
   "outputs": [],
   "source": [
    "# a utility function to drop features\n",
    "def feature_selection(dataframe, attributes=[]): \n",
    "    return dataframe.drop(columns=attributes)"
   ]
  },
  {
   "cell_type": "code",
   "execution_count": 9,
   "metadata": {},
   "outputs": [],
   "source": [
    "def type_casting(dataframe, attribute, type):\n",
    "    dataframe[f\"{attribute}\"] = dataframe[[f\"{attribute}\"]].astype(f\"{type}\")\n",
    "    return dataframe"
   ]
  },
  {
   "cell_type": "code",
   "execution_count": 10,
   "metadata": {},
   "outputs": [],
   "source": [
    "# Extract features from datetime columns of pickup\n",
    "trips_train = extract_features(trips_train)\n",
    "trips_test = extract_features(trips_test)"
   ]
  },
  {
   "cell_type": "code",
   "execution_count": 11,
   "metadata": {},
   "outputs": [],
   "source": [
    "# drop the tpep_pickup_datetime columns and date columns (used for joining)\n",
    "drop_dates = [\"tpep_pickup_datetime\", \"date\"]\n",
    "trips_train = feature_selection(trips_train, drop_dates)\n",
    "trips_test = feature_selection(trips_test, drop_dates)\n",
    "\n",
    "# drop irrelevant data columns\n",
    "irrelevant_attr = [\"payment_type\", \"VendorID\", \"RatecodeID\"]\n",
    "trips_train = feature_selection(trips_train, irrelevant_attr)\n",
    "trips_test = feature_selection(trips_test, irrelevant_attr)\n",
    "\n",
    "# drop columns with significant missing values i.e., almost equal to the dataset size\n",
    "significant_nulls = [\"wpgt\", \"snow\", \"prcp\", \"tsun\", \"wdir\", \"airport_fee\"]\n",
    "trips_train = feature_selection(trips_train, significant_nulls)\n",
    "trips_test = feature_selection(trips_test, significant_nulls)\n"
   ]
  },
  {
   "cell_type": "code",
   "execution_count": 12,
   "metadata": {},
   "outputs": [],
   "source": [
    "# cast dates to a numeral\n",
    "trips_train = type_casting(trips_train, \"tpep_dropoff_datetime\", \"int64\")\n",
    "trips_test = type_casting(trips_test, \"tpep_dropoff_datetime\", \"int64\")"
   ]
  },
  {
   "cell_type": "code",
   "execution_count": 13,
   "metadata": {},
   "outputs": [
    {
     "data": {
      "text/html": [
       "<div>\n",
       "<style scoped>\n",
       "    .dataframe tbody tr th:only-of-type {\n",
       "        vertical-align: middle;\n",
       "    }\n",
       "\n",
       "    .dataframe tbody tr th {\n",
       "        vertical-align: top;\n",
       "    }\n",
       "\n",
       "    .dataframe thead th {\n",
       "        text-align: right;\n",
       "    }\n",
       "</style>\n",
       "<table border=\"1\" class=\"dataframe\">\n",
       "  <thead>\n",
       "    <tr style=\"text-align: right;\">\n",
       "      <th></th>\n",
       "      <th>tpep_dropoff_datetime</th>\n",
       "      <th>passenger_count</th>\n",
       "      <th>trip_distance</th>\n",
       "      <th>store_and_fwd_flag</th>\n",
       "      <th>PULocationID</th>\n",
       "      <th>DOLocationID</th>\n",
       "      <th>fare_amount</th>\n",
       "      <th>extra</th>\n",
       "      <th>mta_tax</th>\n",
       "      <th>tip_amount</th>\n",
       "      <th>...</th>\n",
       "      <th>total_amount</th>\n",
       "      <th>congestion_surcharge</th>\n",
       "      <th>tavg</th>\n",
       "      <th>tmin</th>\n",
       "      <th>tmax</th>\n",
       "      <th>wspd</th>\n",
       "      <th>pres</th>\n",
       "      <th>pickup_weekday</th>\n",
       "      <th>pickup_hour</th>\n",
       "      <th>pickup_minute</th>\n",
       "    </tr>\n",
       "  </thead>\n",
       "  <tbody>\n",
       "    <tr>\n",
       "      <th>5629127</th>\n",
       "      <td>1580305394000000</td>\n",
       "      <td>1.0</td>\n",
       "      <td>1.23</td>\n",
       "      <td>N</td>\n",
       "      <td>238</td>\n",
       "      <td>166</td>\n",
       "      <td>7.0</td>\n",
       "      <td>0.0</td>\n",
       "      <td>0.5</td>\n",
       "      <td>0.00</td>\n",
       "      <td>...</td>\n",
       "      <td>7.80</td>\n",
       "      <td>0.0</td>\n",
       "      <td>3.5</td>\n",
       "      <td>1.1</td>\n",
       "      <td>7.2</td>\n",
       "      <td>7.8</td>\n",
       "      <td>1018.2</td>\n",
       "      <td>2</td>\n",
       "      <td>13</td>\n",
       "      <td>36</td>\n",
       "    </tr>\n",
       "    <tr>\n",
       "      <th>3950490</th>\n",
       "      <td>1579435722000000</td>\n",
       "      <td>2.0</td>\n",
       "      <td>1.01</td>\n",
       "      <td>N</td>\n",
       "      <td>141</td>\n",
       "      <td>263</td>\n",
       "      <td>5.5</td>\n",
       "      <td>0.0</td>\n",
       "      <td>0.5</td>\n",
       "      <td>1.32</td>\n",
       "      <td>...</td>\n",
       "      <td>10.12</td>\n",
       "      <td>2.5</td>\n",
       "      <td>4.0</td>\n",
       "      <td>0.6</td>\n",
       "      <td>7.2</td>\n",
       "      <td>10.2</td>\n",
       "      <td>1008.9</td>\n",
       "      <td>6</td>\n",
       "      <td>12</td>\n",
       "      <td>4</td>\n",
       "    </tr>\n",
       "  </tbody>\n",
       "</table>\n",
       "<p>2 rows × 22 columns</p>\n",
       "</div>"
      ],
      "text/plain": [
       "         tpep_dropoff_datetime  passenger_count  trip_distance  \\\n",
       "5629127       1580305394000000              1.0           1.23   \n",
       "3950490       1579435722000000              2.0           1.01   \n",
       "\n",
       "        store_and_fwd_flag  PULocationID  DOLocationID  fare_amount  extra  \\\n",
       "5629127                  N           238           166          7.0    0.0   \n",
       "3950490                  N           141           263          5.5    0.0   \n",
       "\n",
       "         mta_tax  tip_amount  ...  total_amount  congestion_surcharge  tavg  \\\n",
       "5629127      0.5        0.00  ...          7.80                   0.0   3.5   \n",
       "3950490      0.5        1.32  ...         10.12                   2.5   4.0   \n",
       "\n",
       "         tmin  tmax  wspd    pres  pickup_weekday  pickup_hour  pickup_minute  \n",
       "5629127   1.1   7.2   7.8  1018.2               2           13             36  \n",
       "3950490   0.6   7.2  10.2  1008.9               6           12              4  \n",
       "\n",
       "[2 rows x 22 columns]"
      ]
     },
     "execution_count": 13,
     "metadata": {},
     "output_type": "execute_result"
    }
   ],
   "source": [
    "trips_train.head(2)"
   ]
  },
  {
   "cell_type": "code",
   "execution_count": 14,
   "metadata": {},
   "outputs": [
    {
     "data": {
      "text/html": [
       "<div>\n",
       "<style scoped>\n",
       "    .dataframe tbody tr th:only-of-type {\n",
       "        vertical-align: middle;\n",
       "    }\n",
       "\n",
       "    .dataframe tbody tr th {\n",
       "        vertical-align: top;\n",
       "    }\n",
       "\n",
       "    .dataframe thead th {\n",
       "        text-align: right;\n",
       "    }\n",
       "</style>\n",
       "<table border=\"1\" class=\"dataframe\">\n",
       "  <thead>\n",
       "    <tr style=\"text-align: right;\">\n",
       "      <th></th>\n",
       "      <th>tpep_dropoff_datetime</th>\n",
       "      <th>passenger_count</th>\n",
       "      <th>trip_distance</th>\n",
       "      <th>store_and_fwd_flag</th>\n",
       "      <th>PULocationID</th>\n",
       "      <th>DOLocationID</th>\n",
       "      <th>fare_amount</th>\n",
       "      <th>extra</th>\n",
       "      <th>mta_tax</th>\n",
       "      <th>tip_amount</th>\n",
       "      <th>...</th>\n",
       "      <th>total_amount</th>\n",
       "      <th>congestion_surcharge</th>\n",
       "      <th>tavg</th>\n",
       "      <th>tmin</th>\n",
       "      <th>tmax</th>\n",
       "      <th>wspd</th>\n",
       "      <th>pres</th>\n",
       "      <th>pickup_weekday</th>\n",
       "      <th>pickup_hour</th>\n",
       "      <th>pickup_minute</th>\n",
       "    </tr>\n",
       "  </thead>\n",
       "  <tbody>\n",
       "    <tr>\n",
       "      <th>4827251</th>\n",
       "      <td>1579809623000000</td>\n",
       "      <td>1.0</td>\n",
       "      <td>5.5</td>\n",
       "      <td>N</td>\n",
       "      <td>234</td>\n",
       "      <td>24</td>\n",
       "      <td>22.0</td>\n",
       "      <td>3.5</td>\n",
       "      <td>0.5</td>\n",
       "      <td>5.25</td>\n",
       "      <td>...</td>\n",
       "      <td>31.55</td>\n",
       "      <td>2.5</td>\n",
       "      <td>3.5</td>\n",
       "      <td>0.0</td>\n",
       "      <td>7.2</td>\n",
       "      <td>7.5</td>\n",
       "      <td>1029.4</td>\n",
       "      <td>3</td>\n",
       "      <td>19</td>\n",
       "      <td>32</td>\n",
       "    </tr>\n",
       "    <tr>\n",
       "      <th>3890488</th>\n",
       "      <td>1579392861000000</td>\n",
       "      <td>1.0</td>\n",
       "      <td>0.7</td>\n",
       "      <td>N</td>\n",
       "      <td>230</td>\n",
       "      <td>164</td>\n",
       "      <td>4.0</td>\n",
       "      <td>0.5</td>\n",
       "      <td>0.5</td>\n",
       "      <td>1.95</td>\n",
       "      <td>...</td>\n",
       "      <td>9.75</td>\n",
       "      <td>2.5</td>\n",
       "      <td>4.0</td>\n",
       "      <td>0.6</td>\n",
       "      <td>7.2</td>\n",
       "      <td>10.2</td>\n",
       "      <td>1008.9</td>\n",
       "      <td>6</td>\n",
       "      <td>0</td>\n",
       "      <td>12</td>\n",
       "    </tr>\n",
       "  </tbody>\n",
       "</table>\n",
       "<p>2 rows × 22 columns</p>\n",
       "</div>"
      ],
      "text/plain": [
       "         tpep_dropoff_datetime  passenger_count  trip_distance  \\\n",
       "4827251       1579809623000000              1.0            5.5   \n",
       "3890488       1579392861000000              1.0            0.7   \n",
       "\n",
       "        store_and_fwd_flag  PULocationID  DOLocationID  fare_amount  extra  \\\n",
       "4827251                  N           234            24         22.0    3.5   \n",
       "3890488                  N           230           164          4.0    0.5   \n",
       "\n",
       "         mta_tax  tip_amount  ...  total_amount  congestion_surcharge  tavg  \\\n",
       "4827251      0.5        5.25  ...         31.55                   2.5   3.5   \n",
       "3890488      0.5        1.95  ...          9.75                   2.5   4.0   \n",
       "\n",
       "         tmin  tmax  wspd    pres  pickup_weekday  pickup_hour  pickup_minute  \n",
       "4827251   0.0   7.2   7.5  1029.4               3           19             32  \n",
       "3890488   0.6   7.2  10.2  1008.9               6            0             12  \n",
       "\n",
       "[2 rows x 22 columns]"
      ]
     },
     "execution_count": 14,
     "metadata": {},
     "output_type": "execute_result"
    }
   ],
   "source": [
    "trips_test.head(2)"
   ]
  },
  {
   "cell_type": "code",
   "execution_count": 15,
   "metadata": {},
   "outputs": [],
   "source": [
    "from sklearn.pipeline import make_pipeline\n",
    "from sklearn.impute import SimpleImputer\n",
    "from sklearn.preprocessing import StandardScaler, OneHotEncoder\n",
    "from sklearn.compose import ColumnTransformer"
   ]
  },
  {
   "cell_type": "code",
   "execution_count": 16,
   "metadata": {},
   "outputs": [],
   "source": [
    "# numerical transformer\n",
    "num_attributes = list(trips_train.select_dtypes(np.number).columns)\n",
    "num_pipeline = make_pipeline(SimpleImputer(strategy=\"mean\"),\n",
    "                              StandardScaler())\n",
    "\n",
    "# categorical transformer\n",
    "cat_attributes = ['store_and_fwd_flag']\n",
    "cat_pipeline = make_pipeline(SimpleImputer(strategy=\"most_frequent\"), \n",
    "                                       OneHotEncoder(handle_unknown=\"ignore\"))"
   ]
  },
  {
   "cell_type": "code",
   "execution_count": 17,
   "metadata": {},
   "outputs": [],
   "source": [
    "# combined Transformation pipelines\n",
    "preprocessing = ColumnTransformer([\n",
    "        (\"num\", num_pipeline, num_attributes),\n",
    "        (\"cat\", cat_pipeline, cat_attributes),\n",
    "    ])"
   ]
  },
  {
   "cell_type": "markdown",
   "metadata": {},
   "source": [
    "### Regression MLP No hidden layers"
   ]
  },
  {
   "cell_type": "code",
   "execution_count": 18,
   "metadata": {},
   "outputs": [],
   "source": [
    "import tensorflow as tf"
   ]
  },
  {
   "cell_type": "markdown",
   "metadata": {},
   "source": [
    "##### Standardize the inputs"
   ]
  },
  {
   "cell_type": "code",
   "execution_count": 19,
   "metadata": {},
   "outputs": [
    {
     "data": {
      "text/html": [
       "<div>\n",
       "<style scoped>\n",
       "    .dataframe tbody tr th:only-of-type {\n",
       "        vertical-align: middle;\n",
       "    }\n",
       "\n",
       "    .dataframe tbody tr th {\n",
       "        vertical-align: top;\n",
       "    }\n",
       "\n",
       "    .dataframe thead th {\n",
       "        text-align: right;\n",
       "    }\n",
       "</style>\n",
       "<table border=\"1\" class=\"dataframe\">\n",
       "  <thead>\n",
       "    <tr style=\"text-align: right;\">\n",
       "      <th></th>\n",
       "      <th>num__tpep_dropoff_datetime</th>\n",
       "      <th>num__passenger_count</th>\n",
       "      <th>num__trip_distance</th>\n",
       "      <th>num__PULocationID</th>\n",
       "      <th>num__DOLocationID</th>\n",
       "      <th>num__fare_amount</th>\n",
       "      <th>num__extra</th>\n",
       "      <th>num__mta_tax</th>\n",
       "      <th>num__tip_amount</th>\n",
       "      <th>num__tolls_amount</th>\n",
       "      <th>...</th>\n",
       "      <th>num__tmin</th>\n",
       "      <th>num__tmax</th>\n",
       "      <th>num__wspd</th>\n",
       "      <th>num__pres</th>\n",
       "      <th>num__pickup_weekday</th>\n",
       "      <th>num__pickup_hour</th>\n",
       "      <th>num__pickup_minute</th>\n",
       "      <th>cat__store_and_fwd_flag_N</th>\n",
       "      <th>cat__store_and_fwd_flag_Y</th>\n",
       "      <th>cat__store_and_fwd_flag_None</th>\n",
       "    </tr>\n",
       "  </thead>\n",
       "  <tbody>\n",
       "    <tr>\n",
       "      <th>5629127</th>\n",
       "      <td>1.403842</td>\n",
       "      <td>-0.447559</td>\n",
       "      <td>-0.438733</td>\n",
       "      <td>1.121070</td>\n",
       "      <td>0.056583</td>\n",
       "      <td>-0.484147</td>\n",
       "      <td>-0.885659</td>\n",
       "      <td>0.105365</td>\n",
       "      <td>-0.851985</td>\n",
       "      <td>-0.21839</td>\n",
       "      <td>...</td>\n",
       "      <td>-0.089092</td>\n",
       "      <td>-0.077886</td>\n",
       "      <td>-0.816167</td>\n",
       "      <td>-0.333511</td>\n",
       "      <td>-0.534378</td>\n",
       "      <td>-0.153186</td>\n",
       "      <td>0.366407</td>\n",
       "      <td>1.0</td>\n",
       "      <td>0.0</td>\n",
       "      <td>0.0</td>\n",
       "    </tr>\n",
       "    <tr>\n",
       "      <th>3950490</th>\n",
       "      <td>0.265157</td>\n",
       "      <td>0.425807</td>\n",
       "      <td>-0.496661</td>\n",
       "      <td>-0.355428</td>\n",
       "      <td>1.441840</td>\n",
       "      <td>-0.612103</td>\n",
       "      <td>-0.885659</td>\n",
       "      <td>0.105365</td>\n",
       "      <td>-0.339326</td>\n",
       "      <td>-0.21839</td>\n",
       "      <td>...</td>\n",
       "      <td>-0.233086</td>\n",
       "      <td>-0.077886</td>\n",
       "      <td>-0.117681</td>\n",
       "      <td>-1.388189</td>\n",
       "      <td>1.624660</td>\n",
       "      <td>-0.323082</td>\n",
       "      <td>-1.477519</td>\n",
       "      <td>1.0</td>\n",
       "      <td>0.0</td>\n",
       "      <td>0.0</td>\n",
       "    </tr>\n",
       "  </tbody>\n",
       "</table>\n",
       "<p>2 rows × 24 columns</p>\n",
       "</div>"
      ],
      "text/plain": [
       "         num__tpep_dropoff_datetime  num__passenger_count  num__trip_distance  \\\n",
       "5629127                    1.403842             -0.447559           -0.438733   \n",
       "3950490                    0.265157              0.425807           -0.496661   \n",
       "\n",
       "         num__PULocationID  num__DOLocationID  num__fare_amount  num__extra  \\\n",
       "5629127           1.121070           0.056583         -0.484147   -0.885659   \n",
       "3950490          -0.355428           1.441840         -0.612103   -0.885659   \n",
       "\n",
       "         num__mta_tax  num__tip_amount  num__tolls_amount  ...  num__tmin  \\\n",
       "5629127      0.105365        -0.851985           -0.21839  ...  -0.089092   \n",
       "3950490      0.105365        -0.339326           -0.21839  ...  -0.233086   \n",
       "\n",
       "         num__tmax  num__wspd  num__pres  num__pickup_weekday  \\\n",
       "5629127  -0.077886  -0.816167  -0.333511            -0.534378   \n",
       "3950490  -0.077886  -0.117681  -1.388189             1.624660   \n",
       "\n",
       "         num__pickup_hour  num__pickup_minute  cat__store_and_fwd_flag_N  \\\n",
       "5629127         -0.153186            0.366407                        1.0   \n",
       "3950490         -0.323082           -1.477519                        1.0   \n",
       "\n",
       "         cat__store_and_fwd_flag_Y  cat__store_and_fwd_flag_None  \n",
       "5629127                        0.0                           0.0  \n",
       "3950490                        0.0                           0.0  \n",
       "\n",
       "[2 rows x 24 columns]"
      ]
     },
     "execution_count": 19,
     "metadata": {},
     "output_type": "execute_result"
    }
   ],
   "source": [
    "trips_train_prepared = preprocessing.fit_transform(trips_train)\n",
    "df_trips_train_prepared = pd.DataFrame(trips_train_prepared,\n",
    "                                       columns=preprocessing.get_feature_names_out(),\n",
    "                                       index=trips_train.index)\n",
    "df_trips_train_prepared.head(2)\n"
   ]
  },
  {
   "cell_type": "code",
   "execution_count": 20,
   "metadata": {},
   "outputs": [
    {
     "data": {
      "text/html": [
       "<div>\n",
       "<style scoped>\n",
       "    .dataframe tbody tr th:only-of-type {\n",
       "        vertical-align: middle;\n",
       "    }\n",
       "\n",
       "    .dataframe tbody tr th {\n",
       "        vertical-align: top;\n",
       "    }\n",
       "\n",
       "    .dataframe thead th {\n",
       "        text-align: right;\n",
       "    }\n",
       "</style>\n",
       "<table border=\"1\" class=\"dataframe\">\n",
       "  <thead>\n",
       "    <tr style=\"text-align: right;\">\n",
       "      <th></th>\n",
       "      <th>num__tpep_dropoff_datetime</th>\n",
       "      <th>num__passenger_count</th>\n",
       "      <th>num__trip_distance</th>\n",
       "      <th>num__PULocationID</th>\n",
       "      <th>num__DOLocationID</th>\n",
       "      <th>num__fare_amount</th>\n",
       "      <th>num__extra</th>\n",
       "      <th>num__mta_tax</th>\n",
       "      <th>num__tip_amount</th>\n",
       "      <th>num__tolls_amount</th>\n",
       "      <th>...</th>\n",
       "      <th>num__tmin</th>\n",
       "      <th>num__tmax</th>\n",
       "      <th>num__wspd</th>\n",
       "      <th>num__pres</th>\n",
       "      <th>num__pickup_weekday</th>\n",
       "      <th>num__pickup_hour</th>\n",
       "      <th>num__pickup_minute</th>\n",
       "      <th>cat__store_and_fwd_flag_N</th>\n",
       "      <th>cat__store_and_fwd_flag_Y</th>\n",
       "      <th>cat__store_and_fwd_flag_None</th>\n",
       "    </tr>\n",
       "  </thead>\n",
       "  <tbody>\n",
       "    <tr>\n",
       "      <th>4827251</th>\n",
       "      <td>0.761239</td>\n",
       "      <td>-0.448046</td>\n",
       "      <td>0.685706</td>\n",
       "      <td>1.052892</td>\n",
       "      <td>-1.977166</td>\n",
       "      <td>0.778787</td>\n",
       "      <td>1.899921</td>\n",
       "      <td>0.099834</td>\n",
       "      <td>1.150466</td>\n",
       "      <td>-0.218816</td>\n",
       "      <td>...</td>\n",
       "      <td>-0.416940</td>\n",
       "      <td>-0.088592</td>\n",
       "      <td>-0.916521</td>\n",
       "      <td>0.947635</td>\n",
       "      <td>0.012142</td>\n",
       "      <td>0.860072</td>\n",
       "      <td>0.120948</td>\n",
       "      <td>1.0</td>\n",
       "      <td>0.0</td>\n",
       "      <td>0.0</td>\n",
       "    </tr>\n",
       "    <tr>\n",
       "      <th>3890488</th>\n",
       "      <td>0.212850</td>\n",
       "      <td>-0.448046</td>\n",
       "      <td>-0.569841</td>\n",
       "      <td>0.991763</td>\n",
       "      <td>0.023873</td>\n",
       "      <td>-0.716101</td>\n",
       "      <td>-0.490388</td>\n",
       "      <td>0.099834</td>\n",
       "      <td>-0.079520</td>\n",
       "      <td>-0.218816</td>\n",
       "      <td>...</td>\n",
       "      <td>-0.243857</td>\n",
       "      <td>-0.088592</td>\n",
       "      <td>-0.125247</td>\n",
       "      <td>-1.383785</td>\n",
       "      <td>1.631095</td>\n",
       "      <td>-2.346412</td>\n",
       "      <td>-1.033854</td>\n",
       "      <td>1.0</td>\n",
       "      <td>0.0</td>\n",
       "      <td>0.0</td>\n",
       "    </tr>\n",
       "  </tbody>\n",
       "</table>\n",
       "<p>2 rows × 24 columns</p>\n",
       "</div>"
      ],
      "text/plain": [
       "         num__tpep_dropoff_datetime  num__passenger_count  num__trip_distance  \\\n",
       "4827251                    0.761239             -0.448046            0.685706   \n",
       "3890488                    0.212850             -0.448046           -0.569841   \n",
       "\n",
       "         num__PULocationID  num__DOLocationID  num__fare_amount  num__extra  \\\n",
       "4827251           1.052892          -1.977166          0.778787    1.899921   \n",
       "3890488           0.991763           0.023873         -0.716101   -0.490388   \n",
       "\n",
       "         num__mta_tax  num__tip_amount  num__tolls_amount  ...  num__tmin  \\\n",
       "4827251      0.099834         1.150466          -0.218816  ...  -0.416940   \n",
       "3890488      0.099834        -0.079520          -0.218816  ...  -0.243857   \n",
       "\n",
       "         num__tmax  num__wspd  num__pres  num__pickup_weekday  \\\n",
       "4827251  -0.088592  -0.916521   0.947635             0.012142   \n",
       "3890488  -0.088592  -0.125247  -1.383785             1.631095   \n",
       "\n",
       "         num__pickup_hour  num__pickup_minute  cat__store_and_fwd_flag_N  \\\n",
       "4827251          0.860072            0.120948                        1.0   \n",
       "3890488         -2.346412           -1.033854                        1.0   \n",
       "\n",
       "         cat__store_and_fwd_flag_Y  cat__store_and_fwd_flag_None  \n",
       "4827251                        0.0                           0.0  \n",
       "3890488                        0.0                           0.0  \n",
       "\n",
       "[2 rows x 24 columns]"
      ]
     },
     "execution_count": 20,
     "metadata": {},
     "output_type": "execute_result"
    }
   ],
   "source": [
    "trips_test_prepared = preprocessing.fit_transform(trips_test)\n",
    "df_trips_test_prepared = pd.DataFrame(trips_test_prepared,\n",
    "                                       columns=preprocessing.get_feature_names_out(),\n",
    "                                       index=trips_test.index)\n",
    "df_trips_test_prepared.head(2)"
   ]
  },
  {
   "cell_type": "code",
   "execution_count": 21,
   "metadata": {},
   "outputs": [
    {
     "data": {
      "text/plain": [
       "(100000, 24)"
      ]
     },
     "execution_count": 21,
     "metadata": {},
     "output_type": "execute_result"
    }
   ],
   "source": [
    "df_trips_train_prepared.shape"
   ]
  },
  {
   "cell_type": "code",
   "execution_count": 22,
   "metadata": {},
   "outputs": [],
   "source": [
    "# Initialize the model\n",
    "tf.random.set_seed(42) # set a tf random seed to make the result reproducible: i.e, the random weights of hidden layers and output layer will be the same everywhere\n",
    "\n",
    "model = tf.keras.Sequential([\n",
    "    tf.keras.layers.InputLayer(shape=(24,)),\n",
    "    tf.keras.layers.Dense(1) # output layer\n",
    "])\n",
    "\n",
    "# SGD optmizer with lr=0.01\n",
    "optimizer = tf.keras.optimizers.SGD(learning_rate=1e-3)\n",
    "model.compile(loss=\"mse\", optimizer=optimizer, metrics=[\"RootMeanSquaredError\"])\n"
   ]
  },
  {
   "cell_type": "code",
   "execution_count": 23,
   "metadata": {},
   "outputs": [
    {
     "data": {
      "text/html": [
       "<pre style=\"white-space:pre;overflow-x:auto;line-height:normal;font-family:Menlo,'DejaVu Sans Mono',consolas,'Courier New',monospace\"><span style=\"font-weight: bold\">Model: \"sequential\"</span>\n",
       "</pre>\n"
      ],
      "text/plain": [
       "\u001b[1mModel: \"sequential\"\u001b[0m\n"
      ]
     },
     "metadata": {},
     "output_type": "display_data"
    },
    {
     "data": {
      "text/html": [
       "<pre style=\"white-space:pre;overflow-x:auto;line-height:normal;font-family:Menlo,'DejaVu Sans Mono',consolas,'Courier New',monospace\">┏━━━━━━━━━━━━━━━━━━━━━━━━━━━━━━━━━┳━━━━━━━━━━━━━━━━━━━━━━━━┳━━━━━━━━━━━━━━━┓\n",
       "┃<span style=\"font-weight: bold\"> Layer (type)                    </span>┃<span style=\"font-weight: bold\"> Output Shape           </span>┃<span style=\"font-weight: bold\">       Param # </span>┃\n",
       "┡━━━━━━━━━━━━━━━━━━━━━━━━━━━━━━━━━╇━━━━━━━━━━━━━━━━━━━━━━━━╇━━━━━━━━━━━━━━━┩\n",
       "│ dense (<span style=\"color: #0087ff; text-decoration-color: #0087ff\">Dense</span>)                   │ (<span style=\"color: #00d7ff; text-decoration-color: #00d7ff\">None</span>, <span style=\"color: #00af00; text-decoration-color: #00af00\">1</span>)              │            <span style=\"color: #00af00; text-decoration-color: #00af00\">25</span> │\n",
       "└─────────────────────────────────┴────────────────────────┴───────────────┘\n",
       "</pre>\n"
      ],
      "text/plain": [
       "┏━━━━━━━━━━━━━━━━━━━━━━━━━━━━━━━━━┳━━━━━━━━━━━━━━━━━━━━━━━━┳━━━━━━━━━━━━━━━┓\n",
       "┃\u001b[1m \u001b[0m\u001b[1mLayer (type)                   \u001b[0m\u001b[1m \u001b[0m┃\u001b[1m \u001b[0m\u001b[1mOutput Shape          \u001b[0m\u001b[1m \u001b[0m┃\u001b[1m \u001b[0m\u001b[1m      Param #\u001b[0m\u001b[1m \u001b[0m┃\n",
       "┡━━━━━━━━━━━━━━━━━━━━━━━━━━━━━━━━━╇━━━━━━━━━━━━━━━━━━━━━━━━╇━━━━━━━━━━━━━━━┩\n",
       "│ dense (\u001b[38;5;33mDense\u001b[0m)                   │ (\u001b[38;5;45mNone\u001b[0m, \u001b[38;5;34m1\u001b[0m)              │            \u001b[38;5;34m25\u001b[0m │\n",
       "└─────────────────────────────────┴────────────────────────┴───────────────┘\n"
      ]
     },
     "metadata": {},
     "output_type": "display_data"
    },
    {
     "data": {
      "text/html": [
       "<pre style=\"white-space:pre;overflow-x:auto;line-height:normal;font-family:Menlo,'DejaVu Sans Mono',consolas,'Courier New',monospace\"><span style=\"font-weight: bold\"> Total params: </span><span style=\"color: #00af00; text-decoration-color: #00af00\">25</span> (100.00 B)\n",
       "</pre>\n"
      ],
      "text/plain": [
       "\u001b[1m Total params: \u001b[0m\u001b[38;5;34m25\u001b[0m (100.00 B)\n"
      ]
     },
     "metadata": {},
     "output_type": "display_data"
    },
    {
     "data": {
      "text/html": [
       "<pre style=\"white-space:pre;overflow-x:auto;line-height:normal;font-family:Menlo,'DejaVu Sans Mono',consolas,'Courier New',monospace\"><span style=\"font-weight: bold\"> Trainable params: </span><span style=\"color: #00af00; text-decoration-color: #00af00\">25</span> (100.00 B)\n",
       "</pre>\n"
      ],
      "text/plain": [
       "\u001b[1m Trainable params: \u001b[0m\u001b[38;5;34m25\u001b[0m (100.00 B)\n"
      ]
     },
     "metadata": {},
     "output_type": "display_data"
    },
    {
     "data": {
      "text/html": [
       "<pre style=\"white-space:pre;overflow-x:auto;line-height:normal;font-family:Menlo,'DejaVu Sans Mono',consolas,'Courier New',monospace\"><span style=\"font-weight: bold\"> Non-trainable params: </span><span style=\"color: #00af00; text-decoration-color: #00af00\">0</span> (0.00 B)\n",
       "</pre>\n"
      ],
      "text/plain": [
       "\u001b[1m Non-trainable params: \u001b[0m\u001b[38;5;34m0\u001b[0m (0.00 B)\n"
      ]
     },
     "metadata": {},
     "output_type": "display_data"
    }
   ],
   "source": [
    "model.summary()"
   ]
  },
  {
   "cell_type": "code",
   "execution_count": 24,
   "metadata": {},
   "outputs": [
    {
     "data": {
      "text/plain": [
       "(100000, 24)"
      ]
     },
     "execution_count": 24,
     "metadata": {},
     "output_type": "execute_result"
    }
   ],
   "source": [
    "df_trips_train_prepared.shape"
   ]
  },
  {
   "cell_type": "code",
   "execution_count": 25,
   "metadata": {},
   "outputs": [
    {
     "data": {
      "text/plain": [
       "(20000, 24)"
      ]
     },
     "execution_count": 25,
     "metadata": {},
     "output_type": "execute_result"
    }
   ],
   "source": [
    "df_trips_test_prepared.shape"
   ]
  },
  {
   "cell_type": "markdown",
   "metadata": {},
   "source": [
    "#### Add callbacks"
   ]
  },
  {
   "cell_type": "code",
   "execution_count": 26,
   "metadata": {},
   "outputs": [],
   "source": [
    "# stop training if no progress on the validation set and roll back to the best model after training\n",
    "early_stopping_cb = tf.keras.callbacks.EarlyStopping(patience=10,\n",
    "                                                    restore_best_weights=True)"
   ]
  },
  {
   "cell_type": "code",
   "execution_count": 27,
   "metadata": {},
   "outputs": [],
   "source": [
    "# create log directory for Tensor board (dont profile for each batch to save memory)\n",
    "from pathlib import Path\n",
    "from time import strftime\n",
    "\n",
    "def get_run_logdir(root_logdir=\"my_logs\"):\n",
    "    return Path(root_logdir) / strftime(\"run_%Y_%m_%d_%H_%M_%S\")\n",
    "\n",
    "run_logdir = get_run_logdir()\n",
    "\n",
    "tensorboard_cb = tf.keras.callbacks.TensorBoard(run_logdir,\n",
    "                                                profile_batch=(100, 200))"
   ]
  },
  {
   "cell_type": "code",
   "execution_count": 28,
   "metadata": {},
   "outputs": [],
   "source": [
    "\n",
    "# %load_ext tensorboard # load the tensor board \n",
    "# %tensorboard --logdir=./my_logs # start the tensorboard server for my_logs directory"
   ]
  },
  {
   "cell_type": "code",
   "execution_count": 29,
   "metadata": {},
   "outputs": [
    {
     "name": "stdout",
     "output_type": "stream",
     "text": [
      "Epoch 1/100\n",
      "\u001b[1m3125/3125\u001b[0m \u001b[32m━━━━━━━━━━━━━━━━━━━━\u001b[0m\u001b[37m\u001b[0m \u001b[1m11s\u001b[0m 3ms/step - RootMeanSquaredError: 60.7820 - loss: 3713.3279 - val_RootMeanSquaredError: 67.2754 - val_loss: 4525.9834\n",
      "Epoch 2/100\n",
      "\u001b[1m3125/3125\u001b[0m \u001b[32m━━━━━━━━━━━━━━━━━━━━\u001b[0m\u001b[37m\u001b[0m \u001b[1m11s\u001b[0m 3ms/step - RootMeanSquaredError: 60.3153 - loss: 3658.3076 - val_RootMeanSquaredError: 67.2719 - val_loss: 4525.5059\n",
      "Epoch 3/100\n",
      "\u001b[1m3125/3125\u001b[0m \u001b[32m━━━━━━━━━━━━━━━━━━━━\u001b[0m\u001b[37m\u001b[0m \u001b[1m13s\u001b[0m 4ms/step - RootMeanSquaredError: 60.3130 - loss: 3658.0269 - val_RootMeanSquaredError: 67.2697 - val_loss: 4525.2095\n",
      "Epoch 4/100\n",
      "\u001b[1m3125/3125\u001b[0m \u001b[32m━━━━━━━━━━━━━━━━━━━━\u001b[0m\u001b[37m\u001b[0m \u001b[1m19s\u001b[0m 4ms/step - RootMeanSquaredError: 60.3117 - loss: 3657.8716 - val_RootMeanSquaredError: 67.2681 - val_loss: 4524.9946\n",
      "Epoch 5/100\n",
      "\u001b[1m3125/3125\u001b[0m \u001b[32m━━━━━━━━━━━━━━━━━━━━\u001b[0m\u001b[37m\u001b[0m \u001b[1m10s\u001b[0m 3ms/step - RootMeanSquaredError: 60.3106 - loss: 3657.7439 - val_RootMeanSquaredError: 67.2668 - val_loss: 4524.8276\n",
      "Epoch 6/100\n",
      "\u001b[1m3125/3125\u001b[0m \u001b[32m━━━━━━━━━━━━━━━━━━━━\u001b[0m\u001b[37m\u001b[0m \u001b[1m10s\u001b[0m 3ms/step - RootMeanSquaredError: 60.3098 - loss: 3657.6489 - val_RootMeanSquaredError: 67.2659 - val_loss: 4524.6982\n",
      "Epoch 7/100\n",
      "\u001b[1m3125/3125\u001b[0m \u001b[32m━━━━━━━━━━━━━━━━━━━━\u001b[0m\u001b[37m\u001b[0m \u001b[1m9s\u001b[0m 3ms/step - RootMeanSquaredError: 60.3091 - loss: 3657.5657 - val_RootMeanSquaredError: 67.2651 - val_loss: 4524.5903\n",
      "Epoch 8/100\n",
      "\u001b[1m3125/3125\u001b[0m \u001b[32m━━━━━━━━━━━━━━━━━━━━\u001b[0m\u001b[37m\u001b[0m \u001b[1m12s\u001b[0m 3ms/step - RootMeanSquaredError: 60.3085 - loss: 3657.5010 - val_RootMeanSquaredError: 67.2644 - val_loss: 4524.5029\n",
      "Epoch 9/100\n",
      "\u001b[1m3125/3125\u001b[0m \u001b[32m━━━━━━━━━━━━━━━━━━━━\u001b[0m\u001b[37m\u001b[0m \u001b[1m9s\u001b[0m 3ms/step - RootMeanSquaredError: 60.3081 - loss: 3657.4443 - val_RootMeanSquaredError: 67.2639 - val_loss: 4524.4302\n",
      "Epoch 10/100\n",
      "\u001b[1m3125/3125\u001b[0m \u001b[32m━━━━━━━━━━━━━━━━━━━━\u001b[0m\u001b[37m\u001b[0m \u001b[1m7s\u001b[0m 2ms/step - RootMeanSquaredError: 60.3077 - loss: 3657.3977 - val_RootMeanSquaredError: 67.2634 - val_loss: 4524.3662\n",
      "Epoch 11/100\n",
      "\u001b[1m3125/3125\u001b[0m \u001b[32m━━━━━━━━━━━━━━━━━━━━\u001b[0m\u001b[37m\u001b[0m \u001b[1m11s\u001b[0m 4ms/step - RootMeanSquaredError: 60.3073 - loss: 3657.3613 - val_RootMeanSquaredError: 67.2630 - val_loss: 4524.3110\n",
      "Epoch 12/100\n",
      "\u001b[1m3125/3125\u001b[0m \u001b[32m━━━━━━━━━━━━━━━━━━━━\u001b[0m\u001b[37m\u001b[0m \u001b[1m24s\u001b[0m 4ms/step - RootMeanSquaredError: 60.3071 - loss: 3657.3313 - val_RootMeanSquaredError: 67.2627 - val_loss: 4524.2695\n",
      "Epoch 13/100\n",
      "\u001b[1m3125/3125\u001b[0m \u001b[32m━━━━━━━━━━━━━━━━━━━━\u001b[0m\u001b[37m\u001b[0m \u001b[1m17s\u001b[0m 3ms/step - RootMeanSquaredError: 60.3069 - loss: 3657.3059 - val_RootMeanSquaredError: 67.2624 - val_loss: 4524.2266\n",
      "Epoch 14/100\n",
      "\u001b[1m3125/3125\u001b[0m \u001b[32m━━━━━━━━━━━━━━━━━━━━\u001b[0m\u001b[37m\u001b[0m \u001b[1m11s\u001b[0m 3ms/step - RootMeanSquaredError: 60.3067 - loss: 3657.2856 - val_RootMeanSquaredError: 67.2621 - val_loss: 4524.1958\n",
      "Epoch 15/100\n",
      "\u001b[1m3125/3125\u001b[0m \u001b[32m━━━━━━━━━━━━━━━━━━━━\u001b[0m\u001b[37m\u001b[0m \u001b[1m18s\u001b[0m 3ms/step - RootMeanSquaredError: 60.3065 - loss: 3657.2673 - val_RootMeanSquaredError: 67.2619 - val_loss: 4524.1665\n",
      "Epoch 16/100\n",
      "\u001b[1m3125/3125\u001b[0m \u001b[32m━━━━━━━━━━━━━━━━━━━━\u001b[0m\u001b[37m\u001b[0m \u001b[1m9s\u001b[0m 3ms/step - RootMeanSquaredError: 60.3064 - loss: 3657.2524 - val_RootMeanSquaredError: 67.2617 - val_loss: 4524.1396\n",
      "Epoch 17/100\n",
      "\u001b[1m3125/3125\u001b[0m \u001b[32m━━━━━━━━━━━━━━━━━━━━\u001b[0m\u001b[37m\u001b[0m \u001b[1m12s\u001b[0m 4ms/step - RootMeanSquaredError: 60.3063 - loss: 3657.2390 - val_RootMeanSquaredError: 67.2616 - val_loss: 4524.1167\n",
      "Epoch 18/100\n",
      "\u001b[1m3125/3125\u001b[0m \u001b[32m━━━━━━━━━━━━━━━━━━━━\u001b[0m\u001b[37m\u001b[0m \u001b[1m10s\u001b[0m 3ms/step - RootMeanSquaredError: 60.3062 - loss: 3657.2285 - val_RootMeanSquaredError: 67.2614 - val_loss: 4524.0952\n",
      "Epoch 19/100\n",
      "\u001b[1m3125/3125\u001b[0m \u001b[32m━━━━━━━━━━━━━━━━━━━━\u001b[0m\u001b[37m\u001b[0m \u001b[1m12s\u001b[0m 4ms/step - RootMeanSquaredError: 60.3061 - loss: 3657.2188 - val_RootMeanSquaredError: 67.2613 - val_loss: 4524.0786\n",
      "Epoch 20/100\n",
      "\u001b[1m3125/3125\u001b[0m \u001b[32m━━━━━━━━━━━━━━━━━━━━\u001b[0m\u001b[37m\u001b[0m \u001b[1m20s\u001b[0m 4ms/step - RootMeanSquaredError: 60.3061 - loss: 3657.2117 - val_RootMeanSquaredError: 67.2611 - val_loss: 4524.0605\n",
      "Epoch 21/100\n",
      "\u001b[1m3125/3125\u001b[0m \u001b[32m━━━━━━━━━━━━━━━━━━━━\u001b[0m\u001b[37m\u001b[0m \u001b[1m9s\u001b[0m 3ms/step - RootMeanSquaredError: 60.3060 - loss: 3657.2061 - val_RootMeanSquaredError: 67.2610 - val_loss: 4524.0474\n",
      "Epoch 22/100\n",
      "\u001b[1m3125/3125\u001b[0m \u001b[32m━━━━━━━━━━━━━━━━━━━━\u001b[0m\u001b[37m\u001b[0m \u001b[1m10s\u001b[0m 3ms/step - RootMeanSquaredError: 60.3059 - loss: 3657.1968 - val_RootMeanSquaredError: 67.2609 - val_loss: 4524.0322\n",
      "Epoch 23/100\n",
      "\u001b[1m3125/3125\u001b[0m \u001b[32m━━━━━━━━━━━━━━━━━━━━\u001b[0m\u001b[37m\u001b[0m \u001b[1m8s\u001b[0m 3ms/step - RootMeanSquaredError: 60.3059 - loss: 3657.1919 - val_RootMeanSquaredError: 67.2609 - val_loss: 4524.0234\n",
      "Epoch 24/100\n",
      "\u001b[1m3125/3125\u001b[0m \u001b[32m━━━━━━━━━━━━━━━━━━━━\u001b[0m\u001b[37m\u001b[0m \u001b[1m8s\u001b[0m 3ms/step - RootMeanSquaredError: 60.3058 - loss: 3657.1880 - val_RootMeanSquaredError: 67.2608 - val_loss: 4524.0132\n",
      "Epoch 25/100\n",
      "\u001b[1m3125/3125\u001b[0m \u001b[32m━━━━━━━━━━━━━━━━━━━━\u001b[0m\u001b[37m\u001b[0m \u001b[1m8s\u001b[0m 3ms/step - RootMeanSquaredError: 60.3058 - loss: 3657.1819 - val_RootMeanSquaredError: 67.2607 - val_loss: 4524.0063\n",
      "Epoch 26/100\n",
      "\u001b[1m3125/3125\u001b[0m \u001b[32m━━━━━━━━━━━━━━━━━━━━\u001b[0m\u001b[37m\u001b[0m \u001b[1m9s\u001b[0m 3ms/step - RootMeanSquaredError: 60.3058 - loss: 3657.1802 - val_RootMeanSquaredError: 67.2606 - val_loss: 4523.9937\n",
      "Epoch 27/100\n",
      "\u001b[1m3125/3125\u001b[0m \u001b[32m━━━━━━━━━━━━━━━━━━━━\u001b[0m\u001b[37m\u001b[0m \u001b[1m9s\u001b[0m 2ms/step - RootMeanSquaredError: 60.3057 - loss: 3657.1750 - val_RootMeanSquaredError: 67.2606 - val_loss: 4523.9849\n",
      "Epoch 28/100\n",
      "\u001b[1m3125/3125\u001b[0m \u001b[32m━━━━━━━━━━━━━━━━━━━━\u001b[0m\u001b[37m\u001b[0m \u001b[1m8s\u001b[0m 2ms/step - RootMeanSquaredError: 60.3057 - loss: 3657.1726 - val_RootMeanSquaredError: 67.2605 - val_loss: 4523.9790\n",
      "Epoch 29/100\n",
      "\u001b[1m3125/3125\u001b[0m \u001b[32m━━━━━━━━━━━━━━━━━━━━\u001b[0m\u001b[37m\u001b[0m \u001b[1m7s\u001b[0m 2ms/step - RootMeanSquaredError: 60.3057 - loss: 3657.1694 - val_RootMeanSquaredError: 67.2605 - val_loss: 4523.9736\n",
      "Epoch 30/100\n",
      "\u001b[1m3125/3125\u001b[0m \u001b[32m━━━━━━━━━━━━━━━━━━━━\u001b[0m\u001b[37m\u001b[0m \u001b[1m7s\u001b[0m 2ms/step - RootMeanSquaredError: 60.3057 - loss: 3657.1663 - val_RootMeanSquaredError: 67.2604 - val_loss: 4523.9678\n",
      "Epoch 31/100\n",
      "\u001b[1m3125/3125\u001b[0m \u001b[32m━━━━━━━━━━━━━━━━━━━━\u001b[0m\u001b[37m\u001b[0m \u001b[1m7s\u001b[0m 2ms/step - RootMeanSquaredError: 60.3056 - loss: 3657.1643 - val_RootMeanSquaredError: 67.2604 - val_loss: 4523.9580\n",
      "Epoch 32/100\n",
      "\u001b[1m3125/3125\u001b[0m \u001b[32m━━━━━━━━━━━━━━━━━━━━\u001b[0m\u001b[37m\u001b[0m \u001b[1m7s\u001b[0m 2ms/step - RootMeanSquaredError: 60.3056 - loss: 3657.1597 - val_RootMeanSquaredError: 67.2604 - val_loss: 4523.9551\n",
      "Epoch 33/100\n",
      "\u001b[1m3125/3125\u001b[0m \u001b[32m━━━━━━━━━━━━━━━━━━━━\u001b[0m\u001b[37m\u001b[0m \u001b[1m15s\u001b[0m 4ms/step - RootMeanSquaredError: 60.3056 - loss: 3657.1562 - val_RootMeanSquaredError: 67.2603 - val_loss: 4523.9497\n",
      "Epoch 34/100\n",
      "\u001b[1m3125/3125\u001b[0m \u001b[32m━━━━━━━━━━━━━━━━━━━━\u001b[0m\u001b[37m\u001b[0m \u001b[1m9s\u001b[0m 3ms/step - RootMeanSquaredError: 60.3055 - loss: 3657.1536 - val_RootMeanSquaredError: 67.2603 - val_loss: 4523.9482\n",
      "Epoch 35/100\n",
      "\u001b[1m3125/3125\u001b[0m \u001b[32m━━━━━━━━━━━━━━━━━━━━\u001b[0m\u001b[37m\u001b[0m \u001b[1m14s\u001b[0m 4ms/step - RootMeanSquaredError: 60.3055 - loss: 3657.1523 - val_RootMeanSquaredError: 67.2603 - val_loss: 4523.9434\n",
      "Epoch 36/100\n",
      "\u001b[1m3125/3125\u001b[0m \u001b[32m━━━━━━━━━━━━━━━━━━━━\u001b[0m\u001b[37m\u001b[0m \u001b[1m7s\u001b[0m 2ms/step - RootMeanSquaredError: 60.3055 - loss: 3657.1504 - val_RootMeanSquaredError: 67.2602 - val_loss: 4523.9404\n",
      "Epoch 37/100\n",
      "\u001b[1m3125/3125\u001b[0m \u001b[32m━━━━━━━━━━━━━━━━━━━━\u001b[0m\u001b[37m\u001b[0m \u001b[1m7s\u001b[0m 2ms/step - RootMeanSquaredError: 60.3055 - loss: 3657.1477 - val_RootMeanSquaredError: 67.2602 - val_loss: 4523.9341\n",
      "Epoch 38/100\n",
      "\u001b[1m3125/3125\u001b[0m \u001b[32m━━━━━━━━━━━━━━━━━━━━\u001b[0m\u001b[37m\u001b[0m \u001b[1m7s\u001b[0m 2ms/step - RootMeanSquaredError: 60.3055 - loss: 3657.1455 - val_RootMeanSquaredError: 67.2602 - val_loss: 4523.9302\n",
      "Epoch 39/100\n",
      "\u001b[1m3125/3125\u001b[0m \u001b[32m━━━━━━━━━━━━━━━━━━━━\u001b[0m\u001b[37m\u001b[0m \u001b[1m12s\u001b[0m 3ms/step - RootMeanSquaredError: 60.3055 - loss: 3657.1436 - val_RootMeanSquaredError: 67.2602 - val_loss: 4523.9282\n",
      "Epoch 40/100\n",
      "\u001b[1m3125/3125\u001b[0m \u001b[32m━━━━━━━━━━━━━━━━━━━━\u001b[0m\u001b[37m\u001b[0m \u001b[1m11s\u001b[0m 4ms/step - RootMeanSquaredError: 60.3054 - loss: 3657.1411 - val_RootMeanSquaredError: 67.2601 - val_loss: 4523.9258\n",
      "Epoch 41/100\n",
      "\u001b[1m3125/3125\u001b[0m \u001b[32m━━━━━━━━━━━━━━━━━━━━\u001b[0m\u001b[37m\u001b[0m \u001b[1m9s\u001b[0m 3ms/step - RootMeanSquaredError: 60.3054 - loss: 3657.1389 - val_RootMeanSquaredError: 67.2601 - val_loss: 4523.9238\n",
      "Epoch 42/100\n",
      "\u001b[1m3125/3125\u001b[0m \u001b[32m━━━━━━━━━━━━━━━━━━━━\u001b[0m\u001b[37m\u001b[0m \u001b[1m8s\u001b[0m 3ms/step - RootMeanSquaredError: 60.3054 - loss: 3657.1370 - val_RootMeanSquaredError: 67.2601 - val_loss: 4523.9199\n",
      "Epoch 43/100\n",
      "\u001b[1m3125/3125\u001b[0m \u001b[32m━━━━━━━━━━━━━━━━━━━━\u001b[0m\u001b[37m\u001b[0m \u001b[1m14s\u001b[0m 4ms/step - RootMeanSquaredError: 60.3054 - loss: 3657.1360 - val_RootMeanSquaredError: 67.2601 - val_loss: 4523.9170\n",
      "Epoch 44/100\n",
      "\u001b[1m3125/3125\u001b[0m \u001b[32m━━━━━━━━━━━━━━━━━━━━\u001b[0m\u001b[37m\u001b[0m \u001b[1m11s\u001b[0m 4ms/step - RootMeanSquaredError: 60.3054 - loss: 3657.1343 - val_RootMeanSquaredError: 67.2600 - val_loss: 4523.9136\n",
      "Epoch 45/100\n",
      "\u001b[1m3125/3125\u001b[0m \u001b[32m━━━━━━━━━━━━━━━━━━━━\u001b[0m\u001b[37m\u001b[0m \u001b[1m21s\u001b[0m 4ms/step - RootMeanSquaredError: 60.3054 - loss: 3657.1326 - val_RootMeanSquaredError: 67.2600 - val_loss: 4523.9102\n",
      "Epoch 46/100\n",
      "\u001b[1m3125/3125\u001b[0m \u001b[32m━━━━━━━━━━━━━━━━━━━━\u001b[0m\u001b[37m\u001b[0m \u001b[1m9s\u001b[0m 3ms/step - RootMeanSquaredError: 60.3054 - loss: 3657.1313 - val_RootMeanSquaredError: 67.2600 - val_loss: 4523.9087\n",
      "Epoch 47/100\n",
      "\u001b[1m3125/3125\u001b[0m \u001b[32m━━━━━━━━━━━━━━━━━━━━\u001b[0m\u001b[37m\u001b[0m \u001b[1m12s\u001b[0m 3ms/step - RootMeanSquaredError: 60.3053 - loss: 3657.1292 - val_RootMeanSquaredError: 67.2600 - val_loss: 4523.9067\n",
      "Epoch 48/100\n",
      "\u001b[1m3125/3125\u001b[0m \u001b[32m━━━━━━━━━━━━━━━━━━━━\u001b[0m\u001b[37m\u001b[0m \u001b[1m8s\u001b[0m 2ms/step - RootMeanSquaredError: 60.3053 - loss: 3657.1277 - val_RootMeanSquaredError: 67.2600 - val_loss: 4523.9033\n",
      "Epoch 49/100\n",
      "\u001b[1m3125/3125\u001b[0m \u001b[32m━━━━━━━━━━━━━━━━━━━━\u001b[0m\u001b[37m\u001b[0m \u001b[1m9s\u001b[0m 3ms/step - RootMeanSquaredError: 60.3053 - loss: 3657.1267 - val_RootMeanSquaredError: 67.2599 - val_loss: 4523.8999\n",
      "Epoch 50/100\n",
      "\u001b[1m3125/3125\u001b[0m \u001b[32m━━━━━━━━━━━━━━━━━━━━\u001b[0m\u001b[37m\u001b[0m \u001b[1m12s\u001b[0m 4ms/step - RootMeanSquaredError: 60.3053 - loss: 3657.1250 - val_RootMeanSquaredError: 67.2599 - val_loss: 4523.8960\n",
      "Epoch 51/100\n",
      "\u001b[1m3125/3125\u001b[0m \u001b[32m━━━━━━━━━━━━━━━━━━━━\u001b[0m\u001b[37m\u001b[0m \u001b[1m8s\u001b[0m 2ms/step - RootMeanSquaredError: 60.3053 - loss: 3657.1233 - val_RootMeanSquaredError: 67.2599 - val_loss: 4523.8940\n",
      "Epoch 52/100\n",
      "\u001b[1m3125/3125\u001b[0m \u001b[32m━━━━━━━━━━━━━━━━━━━━\u001b[0m\u001b[37m\u001b[0m \u001b[1m7s\u001b[0m 2ms/step - RootMeanSquaredError: 60.3053 - loss: 3657.1223 - val_RootMeanSquaredError: 67.2599 - val_loss: 4523.8936\n",
      "Epoch 53/100\n",
      "\u001b[1m3125/3125\u001b[0m \u001b[32m━━━━━━━━━━━━━━━━━━━━\u001b[0m\u001b[37m\u001b[0m \u001b[1m8s\u001b[0m 3ms/step - RootMeanSquaredError: 60.3053 - loss: 3657.1204 - val_RootMeanSquaredError: 67.2599 - val_loss: 4523.8906\n",
      "Epoch 54/100\n",
      "\u001b[1m3125/3125\u001b[0m \u001b[32m━━━━━━━━━━━━━━━━━━━━\u001b[0m\u001b[37m\u001b[0m \u001b[1m7s\u001b[0m 2ms/step - RootMeanSquaredError: 60.3052 - loss: 3657.1187 - val_RootMeanSquaredError: 67.2599 - val_loss: 4523.8911\n",
      "Epoch 55/100\n",
      "\u001b[1m3125/3125\u001b[0m \u001b[32m━━━━━━━━━━━━━━━━━━━━\u001b[0m\u001b[37m\u001b[0m \u001b[1m8s\u001b[0m 2ms/step - RootMeanSquaredError: 60.3052 - loss: 3657.1162 - val_RootMeanSquaredError: 67.2599 - val_loss: 4523.8921\n",
      "Epoch 56/100\n",
      "\u001b[1m3125/3125\u001b[0m \u001b[32m━━━━━━━━━━━━━━━━━━━━\u001b[0m\u001b[37m\u001b[0m \u001b[1m8s\u001b[0m 3ms/step - RootMeanSquaredError: 60.3052 - loss: 3657.1152 - val_RootMeanSquaredError: 67.2599 - val_loss: 4523.8892\n",
      "Epoch 57/100\n",
      "\u001b[1m3125/3125\u001b[0m \u001b[32m━━━━━━━━━━━━━━━━━━━━\u001b[0m\u001b[37m\u001b[0m \u001b[1m7s\u001b[0m 2ms/step - RootMeanSquaredError: 60.3052 - loss: 3657.1145 - val_RootMeanSquaredError: 67.2598 - val_loss: 4523.8867\n",
      "Epoch 58/100\n",
      "\u001b[1m3125/3125\u001b[0m \u001b[32m━━━━━━━━━━━━━━━━━━━━\u001b[0m\u001b[37m\u001b[0m \u001b[1m7s\u001b[0m 2ms/step - RootMeanSquaredError: 60.3052 - loss: 3657.1130 - val_RootMeanSquaredError: 67.2598 - val_loss: 4523.8853\n",
      "Epoch 59/100\n",
      "\u001b[1m3125/3125\u001b[0m \u001b[32m━━━━━━━━━━━━━━━━━━━━\u001b[0m\u001b[37m\u001b[0m \u001b[1m7s\u001b[0m 2ms/step - RootMeanSquaredError: 60.3052 - loss: 3657.1121 - val_RootMeanSquaredError: 67.2598 - val_loss: 4523.8853\n",
      "Epoch 60/100\n",
      "\u001b[1m3125/3125\u001b[0m \u001b[32m━━━━━━━━━━━━━━━━━━━━\u001b[0m\u001b[37m\u001b[0m \u001b[1m8s\u001b[0m 2ms/step - RootMeanSquaredError: 60.3052 - loss: 3657.1108 - val_RootMeanSquaredError: 67.2598 - val_loss: 4523.8853\n",
      "Epoch 61/100\n",
      "\u001b[1m3125/3125\u001b[0m \u001b[32m━━━━━━━━━━━━━━━━━━━━\u001b[0m\u001b[37m\u001b[0m \u001b[1m7s\u001b[0m 2ms/step - RootMeanSquaredError: 60.3052 - loss: 3657.1082 - val_RootMeanSquaredError: 67.2598 - val_loss: 4523.8838\n",
      "Epoch 62/100\n",
      "\u001b[1m3125/3125\u001b[0m \u001b[32m━━━━━━━━━━━━━━━━━━━━\u001b[0m\u001b[37m\u001b[0m \u001b[1m8s\u001b[0m 2ms/step - RootMeanSquaredError: 60.3052 - loss: 3657.1072 - val_RootMeanSquaredError: 67.2598 - val_loss: 4523.8818\n",
      "Epoch 63/100\n",
      "\u001b[1m3125/3125\u001b[0m \u001b[32m━━━━━━━━━━━━━━━━━━━━\u001b[0m\u001b[37m\u001b[0m \u001b[1m8s\u001b[0m 2ms/step - RootMeanSquaredError: 60.3051 - loss: 3657.1067 - val_RootMeanSquaredError: 67.2598 - val_loss: 4523.8818\n",
      "Epoch 64/100\n",
      "\u001b[1m3125/3125\u001b[0m \u001b[32m━━━━━━━━━━━━━━━━━━━━\u001b[0m\u001b[37m\u001b[0m \u001b[1m9s\u001b[0m 3ms/step - RootMeanSquaredError: 60.3051 - loss: 3657.1062 - val_RootMeanSquaredError: 67.2598 - val_loss: 4523.8804\n",
      "Epoch 65/100\n",
      "\u001b[1m3125/3125\u001b[0m \u001b[32m━━━━━━━━━━━━━━━━━━━━\u001b[0m\u001b[37m\u001b[0m \u001b[1m9s\u001b[0m 3ms/step - RootMeanSquaredError: 60.3051 - loss: 3657.1047 - val_RootMeanSquaredError: 67.2598 - val_loss: 4523.8804\n",
      "Epoch 66/100\n",
      "\u001b[1m3125/3125\u001b[0m \u001b[32m━━━━━━━━━━━━━━━━━━━━\u001b[0m\u001b[37m\u001b[0m \u001b[1m8s\u001b[0m 2ms/step - RootMeanSquaredError: 60.3051 - loss: 3657.1042 - val_RootMeanSquaredError: 67.2598 - val_loss: 4523.8804\n",
      "Epoch 67/100\n",
      "\u001b[1m3125/3125\u001b[0m \u001b[32m━━━━━━━━━━━━━━━━━━━━\u001b[0m\u001b[37m\u001b[0m \u001b[1m7s\u001b[0m 2ms/step - RootMeanSquaredError: 60.3051 - loss: 3657.1033 - val_RootMeanSquaredError: 67.2598 - val_loss: 4523.8799\n",
      "Epoch 68/100\n",
      "\u001b[1m3125/3125\u001b[0m \u001b[32m━━━━━━━━━━━━━━━━━━━━\u001b[0m\u001b[37m\u001b[0m \u001b[1m10s\u001b[0m 2ms/step - RootMeanSquaredError: 60.3051 - loss: 3657.1016 - val_RootMeanSquaredError: 67.2598 - val_loss: 4523.8794\n",
      "Epoch 69/100\n",
      "\u001b[1m3125/3125\u001b[0m \u001b[32m━━━━━━━━━━━━━━━━━━━━\u001b[0m\u001b[37m\u001b[0m \u001b[1m7s\u001b[0m 2ms/step - RootMeanSquaredError: 60.3051 - loss: 3657.1008 - val_RootMeanSquaredError: 67.2598 - val_loss: 4523.8789\n",
      "Epoch 70/100\n",
      "\u001b[1m3125/3125\u001b[0m \u001b[32m━━━━━━━━━━━━━━━━━━━━\u001b[0m\u001b[37m\u001b[0m \u001b[1m7s\u001b[0m 2ms/step - RootMeanSquaredError: 60.3051 - loss: 3657.0999 - val_RootMeanSquaredError: 67.2598 - val_loss: 4523.8765\n",
      "Epoch 71/100\n",
      "\u001b[1m3125/3125\u001b[0m \u001b[32m━━━━━━━━━━━━━━━━━━━━\u001b[0m\u001b[37m\u001b[0m \u001b[1m7s\u001b[0m 2ms/step - RootMeanSquaredError: 60.3051 - loss: 3657.0974 - val_RootMeanSquaredError: 67.2598 - val_loss: 4523.8740\n",
      "Epoch 72/100\n",
      "\u001b[1m3125/3125\u001b[0m \u001b[32m━━━━━━━━━━━━━━━━━━━━\u001b[0m\u001b[37m\u001b[0m \u001b[1m10s\u001b[0m 3ms/step - RootMeanSquaredError: 60.3051 - loss: 3657.0962 - val_RootMeanSquaredError: 67.2598 - val_loss: 4523.8735\n",
      "Epoch 73/100\n",
      "\u001b[1m3125/3125\u001b[0m \u001b[32m━━━━━━━━━━━━━━━━━━━━\u001b[0m\u001b[37m\u001b[0m \u001b[1m11s\u001b[0m 3ms/step - RootMeanSquaredError: 60.3051 - loss: 3657.0955 - val_RootMeanSquaredError: 67.2597 - val_loss: 4523.8721\n",
      "Epoch 74/100\n",
      "\u001b[1m3125/3125\u001b[0m \u001b[32m━━━━━━━━━━━━━━━━━━━━\u001b[0m\u001b[37m\u001b[0m \u001b[1m20s\u001b[0m 3ms/step - RootMeanSquaredError: 60.3050 - loss: 3657.0942 - val_RootMeanSquaredError: 67.2597 - val_loss: 4523.8706\n",
      "Epoch 75/100\n",
      "\u001b[1m3125/3125\u001b[0m \u001b[32m━━━━━━━━━━━━━━━━━━━━\u001b[0m\u001b[37m\u001b[0m \u001b[1m14s\u001b[0m 4ms/step - RootMeanSquaredError: 60.3050 - loss: 3657.0930 - val_RootMeanSquaredError: 67.2597 - val_loss: 4523.8696\n",
      "Epoch 76/100\n",
      "\u001b[1m3125/3125\u001b[0m \u001b[32m━━━━━━━━━━━━━━━━━━━━\u001b[0m\u001b[37m\u001b[0m \u001b[1m22s\u001b[0m 5ms/step - RootMeanSquaredError: 60.3050 - loss: 3657.0918 - val_RootMeanSquaredError: 67.2597 - val_loss: 4523.8682\n",
      "Epoch 77/100\n",
      "\u001b[1m3125/3125\u001b[0m \u001b[32m━━━━━━━━━━━━━━━━━━━━\u001b[0m\u001b[37m\u001b[0m \u001b[1m10s\u001b[0m 3ms/step - RootMeanSquaredError: 60.3050 - loss: 3657.0903 - val_RootMeanSquaredError: 67.2597 - val_loss: 4523.8662\n",
      "Epoch 78/100\n",
      "\u001b[1m3125/3125\u001b[0m \u001b[32m━━━━━━━━━━━━━━━━━━━━\u001b[0m\u001b[37m\u001b[0m \u001b[1m12s\u001b[0m 4ms/step - RootMeanSquaredError: 60.3050 - loss: 3657.0894 - val_RootMeanSquaredError: 67.2597 - val_loss: 4523.8662\n",
      "Epoch 79/100\n",
      "\u001b[1m3125/3125\u001b[0m \u001b[32m━━━━━━━━━━━━━━━━━━━━\u001b[0m\u001b[37m\u001b[0m \u001b[1m11s\u001b[0m 3ms/step - RootMeanSquaredError: 60.3050 - loss: 3657.0889 - val_RootMeanSquaredError: 67.2597 - val_loss: 4523.8647\n",
      "Epoch 80/100\n",
      "\u001b[1m3125/3125\u001b[0m \u001b[32m━━━━━━━━━━━━━━━━━━━━\u001b[0m\u001b[37m\u001b[0m \u001b[1m10s\u001b[0m 3ms/step - RootMeanSquaredError: 60.3050 - loss: 3657.0876 - val_RootMeanSquaredError: 67.2597 - val_loss: 4523.8633\n",
      "Epoch 81/100\n",
      "\u001b[1m3125/3125\u001b[0m \u001b[32m━━━━━━━━━━━━━━━━━━━━\u001b[0m\u001b[37m\u001b[0m \u001b[1m11s\u001b[0m 3ms/step - RootMeanSquaredError: 60.3050 - loss: 3657.0859 - val_RootMeanSquaredError: 67.2597 - val_loss: 4523.8633\n",
      "Epoch 82/100\n",
      "\u001b[1m3125/3125\u001b[0m \u001b[32m━━━━━━━━━━━━━━━━━━━━\u001b[0m\u001b[37m\u001b[0m \u001b[1m19s\u001b[0m 3ms/step - RootMeanSquaredError: 60.3050 - loss: 3657.0854 - val_RootMeanSquaredError: 67.2597 - val_loss: 4523.8623\n",
      "Epoch 83/100\n",
      "\u001b[1m3125/3125\u001b[0m \u001b[32m━━━━━━━━━━━━━━━━━━━━\u001b[0m\u001b[37m\u001b[0m \u001b[1m10s\u001b[0m 3ms/step - RootMeanSquaredError: 60.3050 - loss: 3657.0842 - val_RootMeanSquaredError: 67.2597 - val_loss: 4523.8618\n",
      "Epoch 84/100\n",
      "\u001b[1m3125/3125\u001b[0m \u001b[32m━━━━━━━━━━━━━━━━━━━━\u001b[0m\u001b[37m\u001b[0m \u001b[1m8s\u001b[0m 3ms/step - RootMeanSquaredError: 60.3050 - loss: 3657.0833 - val_RootMeanSquaredError: 67.2597 - val_loss: 4523.8604\n",
      "Epoch 85/100\n",
      "\u001b[1m3125/3125\u001b[0m \u001b[32m━━━━━━━━━━━━━━━━━━━━\u001b[0m\u001b[37m\u001b[0m \u001b[1m8s\u001b[0m 3ms/step - RootMeanSquaredError: 60.3050 - loss: 3657.0828 - val_RootMeanSquaredError: 67.2597 - val_loss: 4523.8604\n",
      "Epoch 86/100\n",
      "\u001b[1m3125/3125\u001b[0m \u001b[32m━━━━━━━━━━━━━━━━━━━━\u001b[0m\u001b[37m\u001b[0m \u001b[1m8s\u001b[0m 3ms/step - RootMeanSquaredError: 60.3049 - loss: 3657.0803 - val_RootMeanSquaredError: 67.2596 - val_loss: 4523.8589\n",
      "Epoch 87/100\n",
      "\u001b[1m3125/3125\u001b[0m \u001b[32m━━━━━━━━━━━━━━━━━━━━\u001b[0m\u001b[37m\u001b[0m \u001b[1m11s\u001b[0m 3ms/step - RootMeanSquaredError: 60.3049 - loss: 3657.0798 - val_RootMeanSquaredError: 67.2596 - val_loss: 4523.8574\n",
      "Epoch 88/100\n",
      "\u001b[1m3125/3125\u001b[0m \u001b[32m━━━━━━━━━━━━━━━━━━━━\u001b[0m\u001b[37m\u001b[0m \u001b[1m8s\u001b[0m 3ms/step - RootMeanSquaredError: 60.3049 - loss: 3657.0784 - val_RootMeanSquaredError: 67.2596 - val_loss: 4523.8564\n",
      "Epoch 89/100\n",
      "\u001b[1m3125/3125\u001b[0m \u001b[32m━━━━━━━━━━━━━━━━━━━━\u001b[0m\u001b[37m\u001b[0m \u001b[1m8s\u001b[0m 3ms/step - RootMeanSquaredError: 60.3049 - loss: 3657.0776 - val_RootMeanSquaredError: 67.2596 - val_loss: 4523.8594\n",
      "Epoch 90/100\n",
      "\u001b[1m3125/3125\u001b[0m \u001b[32m━━━━━━━━━━━━━━━━━━━━\u001b[0m\u001b[37m\u001b[0m \u001b[1m10s\u001b[0m 3ms/step - RootMeanSquaredError: 60.3049 - loss: 3657.0767 - val_RootMeanSquaredError: 67.2596 - val_loss: 4523.8589\n",
      "Epoch 91/100\n",
      "\u001b[1m3125/3125\u001b[0m \u001b[32m━━━━━━━━━━━━━━━━━━━━\u001b[0m\u001b[37m\u001b[0m \u001b[1m10s\u001b[0m 2ms/step - RootMeanSquaredError: 60.3049 - loss: 3657.0750 - val_RootMeanSquaredError: 67.2596 - val_loss: 4523.8584\n",
      "Epoch 92/100\n",
      "\u001b[1m3125/3125\u001b[0m \u001b[32m━━━━━━━━━━━━━━━━━━━━\u001b[0m\u001b[37m\u001b[0m \u001b[1m8s\u001b[0m 2ms/step - RootMeanSquaredError: 60.3049 - loss: 3657.0750 - val_RootMeanSquaredError: 67.2596 - val_loss: 4523.8574\n",
      "Epoch 93/100\n",
      "\u001b[1m3125/3125\u001b[0m \u001b[32m━━━━━━━━━━━━━━━━━━━━\u001b[0m\u001b[37m\u001b[0m \u001b[1m8s\u001b[0m 3ms/step - RootMeanSquaredError: 60.3049 - loss: 3657.0742 - val_RootMeanSquaredError: 67.2596 - val_loss: 4523.8579\n",
      "Epoch 94/100\n",
      "\u001b[1m3125/3125\u001b[0m \u001b[32m━━━━━━━━━━━━━━━━━━━━\u001b[0m\u001b[37m\u001b[0m \u001b[1m10s\u001b[0m 2ms/step - RootMeanSquaredError: 60.3049 - loss: 3657.0732 - val_RootMeanSquaredError: 67.2596 - val_loss: 4523.8564\n",
      "Epoch 95/100\n",
      "\u001b[1m3125/3125\u001b[0m \u001b[32m━━━━━━━━━━━━━━━━━━━━\u001b[0m\u001b[37m\u001b[0m \u001b[1m8s\u001b[0m 3ms/step - RootMeanSquaredError: 60.3049 - loss: 3657.0718 - val_RootMeanSquaredError: 67.2596 - val_loss: 4523.8550\n",
      "Epoch 96/100\n",
      "\u001b[1m3125/3125\u001b[0m \u001b[32m━━━━━━━━━━━━━━━━━━━━\u001b[0m\u001b[37m\u001b[0m \u001b[1m10s\u001b[0m 2ms/step - RootMeanSquaredError: 60.3049 - loss: 3657.0710 - val_RootMeanSquaredError: 67.2596 - val_loss: 4523.8535\n",
      "Epoch 97/100\n",
      "\u001b[1m3125/3125\u001b[0m \u001b[32m━━━━━━━━━━━━━━━━━━━━\u001b[0m\u001b[37m\u001b[0m \u001b[1m8s\u001b[0m 2ms/step - RootMeanSquaredError: 60.3049 - loss: 3657.0706 - val_RootMeanSquaredError: 67.2596 - val_loss: 4523.8555\n",
      "Epoch 98/100\n",
      "\u001b[1m3125/3125\u001b[0m \u001b[32m━━━━━━━━━━━━━━━━━━━━\u001b[0m\u001b[37m\u001b[0m \u001b[1m11s\u001b[0m 3ms/step - RootMeanSquaredError: 60.3048 - loss: 3657.0681 - val_RootMeanSquaredError: 67.2596 - val_loss: 4523.8545\n",
      "Epoch 99/100\n",
      "\u001b[1m3125/3125\u001b[0m \u001b[32m━━━━━━━━━━━━━━━━━━━━\u001b[0m\u001b[37m\u001b[0m \u001b[1m22s\u001b[0m 6ms/step - RootMeanSquaredError: 60.3048 - loss: 3657.0684 - val_RootMeanSquaredError: 67.2596 - val_loss: 4523.8530\n",
      "Epoch 100/100\n",
      "\u001b[1m3125/3125\u001b[0m \u001b[32m━━━━━━━━━━━━━━━━━━━━\u001b[0m\u001b[37m\u001b[0m \u001b[1m12s\u001b[0m 4ms/step - RootMeanSquaredError: 60.3048 - loss: 3657.0671 - val_RootMeanSquaredError: 67.2596 - val_loss: 4523.8521\n"
     ]
    },
    {
     "data": {
      "text/plain": [
       "<keras.src.callbacks.history.History at 0x14c787075f0>"
      ]
     },
     "execution_count": 29,
     "metadata": {},
     "output_type": "execute_result"
    }
   ],
   "source": [
    "model.fit(df_trips_train_prepared, \n",
    "          trips_train_label,\n",
    "          epochs=100,\n",
    "          batch_size=32,\n",
    "          validation_data=(df_trips_test_prepared, trips_test_label),\n",
    "          callbacks=[early_stopping_cb, tensorboard_cb])"
   ]
  },
  {
   "cell_type": "markdown",
   "metadata": {},
   "source": [
    "#### Save the model"
   ]
  },
  {
   "cell_type": "code",
   "execution_count": 30,
   "metadata": {},
   "outputs": [],
   "source": [
    "# saving the model\n",
    "model.save(\"models/04-03-MLP-with-no-hidden-layers-SGD-MAE.keras\",)"
   ]
  },
  {
   "cell_type": "code",
   "execution_count": 31,
   "metadata": {},
   "outputs": [],
   "source": [
    "model = tf.keras.models.load_model(\"models/04-03-MLP-with-no-hidden-layers-SGD-MAE.keras\")"
   ]
  },
  {
   "cell_type": "markdown",
   "metadata": {},
   "source": [
    "#### Evaluate model"
   ]
  },
  {
   "cell_type": "code",
   "execution_count": 32,
   "metadata": {},
   "outputs": [
    {
     "name": "stdout",
     "output_type": "stream",
     "text": [
      "\u001b[1m625/625\u001b[0m \u001b[32m━━━━━━━━━━━━━━━━━━━━\u001b[0m\u001b[37m\u001b[0m \u001b[1m1s\u001b[0m 1ms/step - RootMeanSquaredError: 74.3834 - loss: 5672.6963\n"
     ]
    }
   ],
   "source": [
    "mae_test, rmse_test = model.evaluate(df_trips_test_prepared, trips_test_label)"
   ]
  },
  {
   "cell_type": "code",
   "execution_count": 33,
   "metadata": {},
   "outputs": [
    {
     "data": {
      "text/plain": [
       "4523.85205078125"
      ]
     },
     "execution_count": 33,
     "metadata": {},
     "output_type": "execute_result"
    }
   ],
   "source": [
    "# Mean absolute error\n",
    "mae_test"
   ]
  },
  {
   "cell_type": "code",
   "execution_count": 34,
   "metadata": {},
   "outputs": [
    {
     "data": {
      "text/plain": [
       "67.25959014892578"
      ]
     },
     "execution_count": 34,
     "metadata": {},
     "output_type": "execute_result"
    }
   ],
   "source": [
    "# Root mean square error\n",
    "rmse_test"
   ]
  },
  {
   "cell_type": "code",
   "execution_count": 35,
   "metadata": {},
   "outputs": [
    {
     "name": "stdout",
     "output_type": "stream",
     "text": [
      "\u001b[1m1/1\u001b[0m \u001b[32m━━━━━━━━━━━━━━━━━━━━\u001b[0m\u001b[37m\u001b[0m \u001b[1m0s\u001b[0m 81ms/step\n"
     ]
    }
   ],
   "source": [
    "trips_new = df_trips_test_prepared[:5] # predict the first 5\n",
    "trips_pred = model.predict(trips_new)"
   ]
  },
  {
   "cell_type": "code",
   "execution_count": 36,
   "metadata": {},
   "outputs": [
    {
     "name": "stdout",
     "output_type": "stream",
     "text": [
      "Predicted [[22.6983  ]\n",
      " [ 8.584158]\n",
      " [17.430208]\n",
      " [12.837461]\n",
      " [ 7.737639]]\n",
      "Actual 4827251    27.800000\n",
      "3890488     2.350000\n",
      "345119     11.333333\n",
      "5872320     4.733333\n",
      "3072005     4.033333\n",
      "Name: trip_duration, dtype: float64\n"
     ]
    }
   ],
   "source": [
    "print(\"Predicted\",trips_pred)\n",
    "print(\"Actual\",trips_test_label[:5])"
   ]
  }
 ],
 "metadata": {
  "kernelspec": {
   "display_name": "Python 3",
   "language": "python",
   "name": "python3"
  },
  "language_info": {
   "codemirror_mode": {
    "name": "ipython",
    "version": 3
   },
   "file_extension": ".py",
   "mimetype": "text/x-python",
   "name": "python",
   "nbconvert_exporter": "python",
   "pygments_lexer": "ipython3",
   "version": "3.12.2"
  }
 },
 "nbformat": 4,
 "nbformat_minor": 2
}
