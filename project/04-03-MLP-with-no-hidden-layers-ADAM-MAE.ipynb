{
 "cells": [
  {
   "cell_type": "code",
   "execution_count": 1,
   "metadata": {},
   "outputs": [],
   "source": [
    "import pandas as pd\n",
    "import matplotlib.pyplot as plt\n",
    "import numpy as np\n",
    "import warnings\n",
    "import statsmodels.api as smg\n",
    "import seaborn as sns\n",
    "import tensorboard"
   ]
  },
  {
   "cell_type": "code",
   "execution_count": 2,
   "metadata": {},
   "outputs": [],
   "source": [
    "### Load stratified data\n",
    "strat_splits = []\n",
    "for i in range(10):\n",
    "    split = []\n",
    "    for j in range(2):\n",
    "        split.append(pd.read_pickle(f'pickled-data/df_{i}-{j}.pkl'))\n",
    "    strat_splits.append(split)"
   ]
  },
  {
   "cell_type": "code",
   "execution_count": 3,
   "metadata": {},
   "outputs": [],
   "source": [
    "strat_train_set, strat_test_set = strat_splits[0] # train with 100000 for reasonable amount of training\n",
    "strat_train_set = strat_train_set[:100000]\n",
    "strat_test_set = strat_test_set[:20000]"
   ]
  },
  {
   "cell_type": "code",
   "execution_count": 4,
   "metadata": {},
   "outputs": [],
   "source": [
    "# trainining data\n",
    "trips_train = strat_train_set.drop(columns=['trip_duration'])          # predictors\n",
    "trips_train_label = strat_train_set[\"trip_duration\"]            # targets\n",
    "trips_train_label = trips_train_label/pd.Timedelta(minutes=1)"
   ]
  },
  {
   "cell_type": "code",
   "execution_count": 5,
   "metadata": {},
   "outputs": [],
   "source": [
    "# validating data\n",
    "trips_test = strat_test_set.drop(columns=['trip_duration'])          # predictors\n",
    "trips_test_label = strat_test_set[\"trip_duration\"]           # targets\n",
    "trips_test_label = trips_test_label/pd.Timedelta(minutes=1)"
   ]
  },
  {
   "cell_type": "markdown",
   "metadata": {},
   "source": [
    "#### Preprocess the features"
   ]
  },
  {
   "cell_type": "code",
   "execution_count": 6,
   "metadata": {},
   "outputs": [],
   "source": [
    "def extract_features(trips):\n",
    "    trips['pickup_weekday'] = trips['tpep_pickup_datetime'].dt.weekday\n",
    "    trips['pickup_hour'] = trips['tpep_pickup_datetime'].dt.hour\n",
    "    trips['pickup_minute'] = trips['tpep_pickup_datetime'].dt.minute\n",
    "    return trips"
   ]
  },
  {
   "cell_type": "code",
   "execution_count": 7,
   "metadata": {},
   "outputs": [],
   "source": [
    "# a utility function to drop features\n",
    "def feature_selection(dataframe, attributes=[]): \n",
    "    return dataframe.drop(columns=attributes)"
   ]
  },
  {
   "cell_type": "code",
   "execution_count": 8,
   "metadata": {},
   "outputs": [],
   "source": [
    "def type_casting(dataframe, attribute, type):\n",
    "    dataframe[f\"{attribute}\"] = dataframe[[f\"{attribute}\"]].astype(f\"{type}\")\n",
    "    return dataframe"
   ]
  },
  {
   "cell_type": "code",
   "execution_count": 9,
   "metadata": {},
   "outputs": [],
   "source": [
    "# Extract features from datetime columns of pickup\n",
    "trips_train = extract_features(trips_train)\n",
    "trips_test = extract_features(trips_test)"
   ]
  },
  {
   "cell_type": "code",
   "execution_count": 10,
   "metadata": {},
   "outputs": [],
   "source": [
    "# drop the tpep_pickup_datetime columns and date columns (used for joining)\n",
    "drop_dates = [\"tpep_pickup_datetime\", \"date\"]\n",
    "trips_train = feature_selection(trips_train, drop_dates)\n",
    "trips_test = feature_selection(trips_test, drop_dates)\n",
    "\n",
    "# drop irrelevant data columns\n",
    "irrelevant_attr = [\"payment_type\", \"VendorID\", \"RatecodeID\"]\n",
    "trips_train = feature_selection(trips_train, irrelevant_attr)\n",
    "trips_test = feature_selection(trips_test, irrelevant_attr)\n",
    "\n",
    "# drop columns with significant missing values i.e., almost equal to the dataset size\n",
    "significant_nulls = [\"wpgt\", \"snow\", \"prcp\", \"tsun\", \"wdir\", \"airport_fee\"]\n",
    "trips_train = feature_selection(trips_train, significant_nulls)\n",
    "trips_test = feature_selection(trips_test, significant_nulls)\n"
   ]
  },
  {
   "cell_type": "code",
   "execution_count": 11,
   "metadata": {},
   "outputs": [],
   "source": [
    "# cast dates to a numeral\n",
    "trips_train = type_casting(trips_train, \"tpep_dropoff_datetime\", \"int64\")\n",
    "trips_test = type_casting(trips_test, \"tpep_dropoff_datetime\", \"int64\")"
   ]
  },
  {
   "cell_type": "code",
   "execution_count": 12,
   "metadata": {},
   "outputs": [
    {
     "data": {
      "text/html": [
       "<div>\n",
       "<style scoped>\n",
       "    .dataframe tbody tr th:only-of-type {\n",
       "        vertical-align: middle;\n",
       "    }\n",
       "\n",
       "    .dataframe tbody tr th {\n",
       "        vertical-align: top;\n",
       "    }\n",
       "\n",
       "    .dataframe thead th {\n",
       "        text-align: right;\n",
       "    }\n",
       "</style>\n",
       "<table border=\"1\" class=\"dataframe\">\n",
       "  <thead>\n",
       "    <tr style=\"text-align: right;\">\n",
       "      <th></th>\n",
       "      <th>tpep_dropoff_datetime</th>\n",
       "      <th>passenger_count</th>\n",
       "      <th>trip_distance</th>\n",
       "      <th>store_and_fwd_flag</th>\n",
       "      <th>PULocationID</th>\n",
       "      <th>DOLocationID</th>\n",
       "      <th>fare_amount</th>\n",
       "      <th>extra</th>\n",
       "      <th>mta_tax</th>\n",
       "      <th>tip_amount</th>\n",
       "      <th>...</th>\n",
       "      <th>total_amount</th>\n",
       "      <th>congestion_surcharge</th>\n",
       "      <th>tavg</th>\n",
       "      <th>tmin</th>\n",
       "      <th>tmax</th>\n",
       "      <th>wspd</th>\n",
       "      <th>pres</th>\n",
       "      <th>pickup_weekday</th>\n",
       "      <th>pickup_hour</th>\n",
       "      <th>pickup_minute</th>\n",
       "    </tr>\n",
       "  </thead>\n",
       "  <tbody>\n",
       "    <tr>\n",
       "      <th>5629127</th>\n",
       "      <td>1580305394000000</td>\n",
       "      <td>1.0</td>\n",
       "      <td>1.23</td>\n",
       "      <td>N</td>\n",
       "      <td>238</td>\n",
       "      <td>166</td>\n",
       "      <td>7.0</td>\n",
       "      <td>0.0</td>\n",
       "      <td>0.5</td>\n",
       "      <td>0.00</td>\n",
       "      <td>...</td>\n",
       "      <td>7.80</td>\n",
       "      <td>0.0</td>\n",
       "      <td>3.5</td>\n",
       "      <td>1.1</td>\n",
       "      <td>7.2</td>\n",
       "      <td>7.8</td>\n",
       "      <td>1018.2</td>\n",
       "      <td>2</td>\n",
       "      <td>13</td>\n",
       "      <td>36</td>\n",
       "    </tr>\n",
       "    <tr>\n",
       "      <th>3950490</th>\n",
       "      <td>1579435722000000</td>\n",
       "      <td>2.0</td>\n",
       "      <td>1.01</td>\n",
       "      <td>N</td>\n",
       "      <td>141</td>\n",
       "      <td>263</td>\n",
       "      <td>5.5</td>\n",
       "      <td>0.0</td>\n",
       "      <td>0.5</td>\n",
       "      <td>1.32</td>\n",
       "      <td>...</td>\n",
       "      <td>10.12</td>\n",
       "      <td>2.5</td>\n",
       "      <td>4.0</td>\n",
       "      <td>0.6</td>\n",
       "      <td>7.2</td>\n",
       "      <td>10.2</td>\n",
       "      <td>1008.9</td>\n",
       "      <td>6</td>\n",
       "      <td>12</td>\n",
       "      <td>4</td>\n",
       "    </tr>\n",
       "  </tbody>\n",
       "</table>\n",
       "<p>2 rows × 22 columns</p>\n",
       "</div>"
      ],
      "text/plain": [
       "         tpep_dropoff_datetime  passenger_count  trip_distance  \\\n",
       "5629127       1580305394000000              1.0           1.23   \n",
       "3950490       1579435722000000              2.0           1.01   \n",
       "\n",
       "        store_and_fwd_flag  PULocationID  DOLocationID  fare_amount  extra  \\\n",
       "5629127                  N           238           166          7.0    0.0   \n",
       "3950490                  N           141           263          5.5    0.0   \n",
       "\n",
       "         mta_tax  tip_amount  ...  total_amount  congestion_surcharge  tavg  \\\n",
       "5629127      0.5        0.00  ...          7.80                   0.0   3.5   \n",
       "3950490      0.5        1.32  ...         10.12                   2.5   4.0   \n",
       "\n",
       "         tmin  tmax  wspd    pres  pickup_weekday  pickup_hour  pickup_minute  \n",
       "5629127   1.1   7.2   7.8  1018.2               2           13             36  \n",
       "3950490   0.6   7.2  10.2  1008.9               6           12              4  \n",
       "\n",
       "[2 rows x 22 columns]"
      ]
     },
     "execution_count": 12,
     "metadata": {},
     "output_type": "execute_result"
    }
   ],
   "source": [
    "trips_train.head(2)"
   ]
  },
  {
   "cell_type": "code",
   "execution_count": 13,
   "metadata": {},
   "outputs": [
    {
     "data": {
      "text/html": [
       "<div>\n",
       "<style scoped>\n",
       "    .dataframe tbody tr th:only-of-type {\n",
       "        vertical-align: middle;\n",
       "    }\n",
       "\n",
       "    .dataframe tbody tr th {\n",
       "        vertical-align: top;\n",
       "    }\n",
       "\n",
       "    .dataframe thead th {\n",
       "        text-align: right;\n",
       "    }\n",
       "</style>\n",
       "<table border=\"1\" class=\"dataframe\">\n",
       "  <thead>\n",
       "    <tr style=\"text-align: right;\">\n",
       "      <th></th>\n",
       "      <th>tpep_dropoff_datetime</th>\n",
       "      <th>passenger_count</th>\n",
       "      <th>trip_distance</th>\n",
       "      <th>store_and_fwd_flag</th>\n",
       "      <th>PULocationID</th>\n",
       "      <th>DOLocationID</th>\n",
       "      <th>fare_amount</th>\n",
       "      <th>extra</th>\n",
       "      <th>mta_tax</th>\n",
       "      <th>tip_amount</th>\n",
       "      <th>...</th>\n",
       "      <th>total_amount</th>\n",
       "      <th>congestion_surcharge</th>\n",
       "      <th>tavg</th>\n",
       "      <th>tmin</th>\n",
       "      <th>tmax</th>\n",
       "      <th>wspd</th>\n",
       "      <th>pres</th>\n",
       "      <th>pickup_weekday</th>\n",
       "      <th>pickup_hour</th>\n",
       "      <th>pickup_minute</th>\n",
       "    </tr>\n",
       "  </thead>\n",
       "  <tbody>\n",
       "    <tr>\n",
       "      <th>4827251</th>\n",
       "      <td>1579809623000000</td>\n",
       "      <td>1.0</td>\n",
       "      <td>5.5</td>\n",
       "      <td>N</td>\n",
       "      <td>234</td>\n",
       "      <td>24</td>\n",
       "      <td>22.0</td>\n",
       "      <td>3.5</td>\n",
       "      <td>0.5</td>\n",
       "      <td>5.25</td>\n",
       "      <td>...</td>\n",
       "      <td>31.55</td>\n",
       "      <td>2.5</td>\n",
       "      <td>3.5</td>\n",
       "      <td>0.0</td>\n",
       "      <td>7.2</td>\n",
       "      <td>7.5</td>\n",
       "      <td>1029.4</td>\n",
       "      <td>3</td>\n",
       "      <td>19</td>\n",
       "      <td>32</td>\n",
       "    </tr>\n",
       "    <tr>\n",
       "      <th>3890488</th>\n",
       "      <td>1579392861000000</td>\n",
       "      <td>1.0</td>\n",
       "      <td>0.7</td>\n",
       "      <td>N</td>\n",
       "      <td>230</td>\n",
       "      <td>164</td>\n",
       "      <td>4.0</td>\n",
       "      <td>0.5</td>\n",
       "      <td>0.5</td>\n",
       "      <td>1.95</td>\n",
       "      <td>...</td>\n",
       "      <td>9.75</td>\n",
       "      <td>2.5</td>\n",
       "      <td>4.0</td>\n",
       "      <td>0.6</td>\n",
       "      <td>7.2</td>\n",
       "      <td>10.2</td>\n",
       "      <td>1008.9</td>\n",
       "      <td>6</td>\n",
       "      <td>0</td>\n",
       "      <td>12</td>\n",
       "    </tr>\n",
       "  </tbody>\n",
       "</table>\n",
       "<p>2 rows × 22 columns</p>\n",
       "</div>"
      ],
      "text/plain": [
       "         tpep_dropoff_datetime  passenger_count  trip_distance  \\\n",
       "4827251       1579809623000000              1.0            5.5   \n",
       "3890488       1579392861000000              1.0            0.7   \n",
       "\n",
       "        store_and_fwd_flag  PULocationID  DOLocationID  fare_amount  extra  \\\n",
       "4827251                  N           234            24         22.0    3.5   \n",
       "3890488                  N           230           164          4.0    0.5   \n",
       "\n",
       "         mta_tax  tip_amount  ...  total_amount  congestion_surcharge  tavg  \\\n",
       "4827251      0.5        5.25  ...         31.55                   2.5   3.5   \n",
       "3890488      0.5        1.95  ...          9.75                   2.5   4.0   \n",
       "\n",
       "         tmin  tmax  wspd    pres  pickup_weekday  pickup_hour  pickup_minute  \n",
       "4827251   0.0   7.2   7.5  1029.4               3           19             32  \n",
       "3890488   0.6   7.2  10.2  1008.9               6            0             12  \n",
       "\n",
       "[2 rows x 22 columns]"
      ]
     },
     "execution_count": 13,
     "metadata": {},
     "output_type": "execute_result"
    }
   ],
   "source": [
    "trips_test.head(2)"
   ]
  },
  {
   "cell_type": "code",
   "execution_count": 14,
   "metadata": {},
   "outputs": [],
   "source": [
    "from sklearn.pipeline import make_pipeline\n",
    "from sklearn.impute import SimpleImputer\n",
    "from sklearn.preprocessing import StandardScaler, OneHotEncoder\n",
    "from sklearn.compose import ColumnTransformer"
   ]
  },
  {
   "cell_type": "code",
   "execution_count": 15,
   "metadata": {},
   "outputs": [],
   "source": [
    "# numerical transformer\n",
    "num_attributes = list(trips_train.select_dtypes(np.number).columns)\n",
    "num_pipeline = make_pipeline(SimpleImputer(strategy=\"mean\"),\n",
    "                              StandardScaler())\n",
    "\n",
    "# categorical transformer\n",
    "cat_attributes = ['store_and_fwd_flag']\n",
    "cat_pipeline = make_pipeline(SimpleImputer(strategy=\"most_frequent\"), \n",
    "                                       OneHotEncoder(handle_unknown=\"ignore\"))"
   ]
  },
  {
   "cell_type": "code",
   "execution_count": 16,
   "metadata": {},
   "outputs": [],
   "source": [
    "# combined Transformation pipelines\n",
    "preprocessing = ColumnTransformer([\n",
    "        (\"num\", num_pipeline, num_attributes),\n",
    "        (\"cat\", cat_pipeline, cat_attributes),\n",
    "    ])"
   ]
  },
  {
   "cell_type": "markdown",
   "metadata": {},
   "source": [
    "### Regression MLP No hidden layers"
   ]
  },
  {
   "cell_type": "code",
   "execution_count": 17,
   "metadata": {},
   "outputs": [],
   "source": [
    "import tensorflow as tf"
   ]
  },
  {
   "cell_type": "markdown",
   "metadata": {},
   "source": [
    "##### Standardize the inputs"
   ]
  },
  {
   "cell_type": "code",
   "execution_count": 18,
   "metadata": {},
   "outputs": [
    {
     "data": {
      "text/html": [
       "<div>\n",
       "<style scoped>\n",
       "    .dataframe tbody tr th:only-of-type {\n",
       "        vertical-align: middle;\n",
       "    }\n",
       "\n",
       "    .dataframe tbody tr th {\n",
       "        vertical-align: top;\n",
       "    }\n",
       "\n",
       "    .dataframe thead th {\n",
       "        text-align: right;\n",
       "    }\n",
       "</style>\n",
       "<table border=\"1\" class=\"dataframe\">\n",
       "  <thead>\n",
       "    <tr style=\"text-align: right;\">\n",
       "      <th></th>\n",
       "      <th>num__tpep_dropoff_datetime</th>\n",
       "      <th>num__passenger_count</th>\n",
       "      <th>num__trip_distance</th>\n",
       "      <th>num__PULocationID</th>\n",
       "      <th>num__DOLocationID</th>\n",
       "      <th>num__fare_amount</th>\n",
       "      <th>num__extra</th>\n",
       "      <th>num__mta_tax</th>\n",
       "      <th>num__tip_amount</th>\n",
       "      <th>num__tolls_amount</th>\n",
       "      <th>...</th>\n",
       "      <th>num__tmin</th>\n",
       "      <th>num__tmax</th>\n",
       "      <th>num__wspd</th>\n",
       "      <th>num__pres</th>\n",
       "      <th>num__pickup_weekday</th>\n",
       "      <th>num__pickup_hour</th>\n",
       "      <th>num__pickup_minute</th>\n",
       "      <th>cat__store_and_fwd_flag_N</th>\n",
       "      <th>cat__store_and_fwd_flag_Y</th>\n",
       "      <th>cat__store_and_fwd_flag_None</th>\n",
       "    </tr>\n",
       "  </thead>\n",
       "  <tbody>\n",
       "    <tr>\n",
       "      <th>5629127</th>\n",
       "      <td>1.403842</td>\n",
       "      <td>-0.447559</td>\n",
       "      <td>-0.438733</td>\n",
       "      <td>1.121070</td>\n",
       "      <td>0.056583</td>\n",
       "      <td>-0.484147</td>\n",
       "      <td>-0.885659</td>\n",
       "      <td>0.105365</td>\n",
       "      <td>-0.851985</td>\n",
       "      <td>-0.21839</td>\n",
       "      <td>...</td>\n",
       "      <td>-0.089092</td>\n",
       "      <td>-0.077886</td>\n",
       "      <td>-0.816167</td>\n",
       "      <td>-0.333511</td>\n",
       "      <td>-0.534378</td>\n",
       "      <td>-0.153186</td>\n",
       "      <td>0.366407</td>\n",
       "      <td>1.0</td>\n",
       "      <td>0.0</td>\n",
       "      <td>0.0</td>\n",
       "    </tr>\n",
       "    <tr>\n",
       "      <th>3950490</th>\n",
       "      <td>0.265157</td>\n",
       "      <td>0.425807</td>\n",
       "      <td>-0.496661</td>\n",
       "      <td>-0.355428</td>\n",
       "      <td>1.441840</td>\n",
       "      <td>-0.612103</td>\n",
       "      <td>-0.885659</td>\n",
       "      <td>0.105365</td>\n",
       "      <td>-0.339326</td>\n",
       "      <td>-0.21839</td>\n",
       "      <td>...</td>\n",
       "      <td>-0.233086</td>\n",
       "      <td>-0.077886</td>\n",
       "      <td>-0.117681</td>\n",
       "      <td>-1.388189</td>\n",
       "      <td>1.624660</td>\n",
       "      <td>-0.323082</td>\n",
       "      <td>-1.477519</td>\n",
       "      <td>1.0</td>\n",
       "      <td>0.0</td>\n",
       "      <td>0.0</td>\n",
       "    </tr>\n",
       "  </tbody>\n",
       "</table>\n",
       "<p>2 rows × 24 columns</p>\n",
       "</div>"
      ],
      "text/plain": [
       "         num__tpep_dropoff_datetime  num__passenger_count  num__trip_distance  \\\n",
       "5629127                    1.403842             -0.447559           -0.438733   \n",
       "3950490                    0.265157              0.425807           -0.496661   \n",
       "\n",
       "         num__PULocationID  num__DOLocationID  num__fare_amount  num__extra  \\\n",
       "5629127           1.121070           0.056583         -0.484147   -0.885659   \n",
       "3950490          -0.355428           1.441840         -0.612103   -0.885659   \n",
       "\n",
       "         num__mta_tax  num__tip_amount  num__tolls_amount  ...  num__tmin  \\\n",
       "5629127      0.105365        -0.851985           -0.21839  ...  -0.089092   \n",
       "3950490      0.105365        -0.339326           -0.21839  ...  -0.233086   \n",
       "\n",
       "         num__tmax  num__wspd  num__pres  num__pickup_weekday  \\\n",
       "5629127  -0.077886  -0.816167  -0.333511            -0.534378   \n",
       "3950490  -0.077886  -0.117681  -1.388189             1.624660   \n",
       "\n",
       "         num__pickup_hour  num__pickup_minute  cat__store_and_fwd_flag_N  \\\n",
       "5629127         -0.153186            0.366407                        1.0   \n",
       "3950490         -0.323082           -1.477519                        1.0   \n",
       "\n",
       "         cat__store_and_fwd_flag_Y  cat__store_and_fwd_flag_None  \n",
       "5629127                        0.0                           0.0  \n",
       "3950490                        0.0                           0.0  \n",
       "\n",
       "[2 rows x 24 columns]"
      ]
     },
     "execution_count": 18,
     "metadata": {},
     "output_type": "execute_result"
    }
   ],
   "source": [
    "trips_train_prepared = preprocessing.fit_transform(trips_train)\n",
    "df_trips_train_prepared = pd.DataFrame(trips_train_prepared,\n",
    "                                       columns=preprocessing.get_feature_names_out(),\n",
    "                                       index=trips_train.index)\n",
    "df_trips_train_prepared.head(2)\n"
   ]
  },
  {
   "cell_type": "code",
   "execution_count": 19,
   "metadata": {},
   "outputs": [
    {
     "data": {
      "text/html": [
       "<div>\n",
       "<style scoped>\n",
       "    .dataframe tbody tr th:only-of-type {\n",
       "        vertical-align: middle;\n",
       "    }\n",
       "\n",
       "    .dataframe tbody tr th {\n",
       "        vertical-align: top;\n",
       "    }\n",
       "\n",
       "    .dataframe thead th {\n",
       "        text-align: right;\n",
       "    }\n",
       "</style>\n",
       "<table border=\"1\" class=\"dataframe\">\n",
       "  <thead>\n",
       "    <tr style=\"text-align: right;\">\n",
       "      <th></th>\n",
       "      <th>num__tpep_dropoff_datetime</th>\n",
       "      <th>num__passenger_count</th>\n",
       "      <th>num__trip_distance</th>\n",
       "      <th>num__PULocationID</th>\n",
       "      <th>num__DOLocationID</th>\n",
       "      <th>num__fare_amount</th>\n",
       "      <th>num__extra</th>\n",
       "      <th>num__mta_tax</th>\n",
       "      <th>num__tip_amount</th>\n",
       "      <th>num__tolls_amount</th>\n",
       "      <th>...</th>\n",
       "      <th>num__tmin</th>\n",
       "      <th>num__tmax</th>\n",
       "      <th>num__wspd</th>\n",
       "      <th>num__pres</th>\n",
       "      <th>num__pickup_weekday</th>\n",
       "      <th>num__pickup_hour</th>\n",
       "      <th>num__pickup_minute</th>\n",
       "      <th>cat__store_and_fwd_flag_N</th>\n",
       "      <th>cat__store_and_fwd_flag_Y</th>\n",
       "      <th>cat__store_and_fwd_flag_None</th>\n",
       "    </tr>\n",
       "  </thead>\n",
       "  <tbody>\n",
       "    <tr>\n",
       "      <th>4827251</th>\n",
       "      <td>0.761239</td>\n",
       "      <td>-0.448046</td>\n",
       "      <td>0.685706</td>\n",
       "      <td>1.052892</td>\n",
       "      <td>-1.977166</td>\n",
       "      <td>0.778787</td>\n",
       "      <td>1.899921</td>\n",
       "      <td>0.099834</td>\n",
       "      <td>1.150466</td>\n",
       "      <td>-0.218816</td>\n",
       "      <td>...</td>\n",
       "      <td>-0.416940</td>\n",
       "      <td>-0.088592</td>\n",
       "      <td>-0.916521</td>\n",
       "      <td>0.947635</td>\n",
       "      <td>0.012142</td>\n",
       "      <td>0.860072</td>\n",
       "      <td>0.120948</td>\n",
       "      <td>1.0</td>\n",
       "      <td>0.0</td>\n",
       "      <td>0.0</td>\n",
       "    </tr>\n",
       "    <tr>\n",
       "      <th>3890488</th>\n",
       "      <td>0.212850</td>\n",
       "      <td>-0.448046</td>\n",
       "      <td>-0.569841</td>\n",
       "      <td>0.991763</td>\n",
       "      <td>0.023873</td>\n",
       "      <td>-0.716101</td>\n",
       "      <td>-0.490388</td>\n",
       "      <td>0.099834</td>\n",
       "      <td>-0.079520</td>\n",
       "      <td>-0.218816</td>\n",
       "      <td>...</td>\n",
       "      <td>-0.243857</td>\n",
       "      <td>-0.088592</td>\n",
       "      <td>-0.125247</td>\n",
       "      <td>-1.383785</td>\n",
       "      <td>1.631095</td>\n",
       "      <td>-2.346412</td>\n",
       "      <td>-1.033854</td>\n",
       "      <td>1.0</td>\n",
       "      <td>0.0</td>\n",
       "      <td>0.0</td>\n",
       "    </tr>\n",
       "  </tbody>\n",
       "</table>\n",
       "<p>2 rows × 24 columns</p>\n",
       "</div>"
      ],
      "text/plain": [
       "         num__tpep_dropoff_datetime  num__passenger_count  num__trip_distance  \\\n",
       "4827251                    0.761239             -0.448046            0.685706   \n",
       "3890488                    0.212850             -0.448046           -0.569841   \n",
       "\n",
       "         num__PULocationID  num__DOLocationID  num__fare_amount  num__extra  \\\n",
       "4827251           1.052892          -1.977166          0.778787    1.899921   \n",
       "3890488           0.991763           0.023873         -0.716101   -0.490388   \n",
       "\n",
       "         num__mta_tax  num__tip_amount  num__tolls_amount  ...  num__tmin  \\\n",
       "4827251      0.099834         1.150466          -0.218816  ...  -0.416940   \n",
       "3890488      0.099834        -0.079520          -0.218816  ...  -0.243857   \n",
       "\n",
       "         num__tmax  num__wspd  num__pres  num__pickup_weekday  \\\n",
       "4827251  -0.088592  -0.916521   0.947635             0.012142   \n",
       "3890488  -0.088592  -0.125247  -1.383785             1.631095   \n",
       "\n",
       "         num__pickup_hour  num__pickup_minute  cat__store_and_fwd_flag_N  \\\n",
       "4827251          0.860072            0.120948                        1.0   \n",
       "3890488         -2.346412           -1.033854                        1.0   \n",
       "\n",
       "         cat__store_and_fwd_flag_Y  cat__store_and_fwd_flag_None  \n",
       "4827251                        0.0                           0.0  \n",
       "3890488                        0.0                           0.0  \n",
       "\n",
       "[2 rows x 24 columns]"
      ]
     },
     "execution_count": 19,
     "metadata": {},
     "output_type": "execute_result"
    }
   ],
   "source": [
    "trips_test_prepared = preprocessing.fit_transform(trips_test)\n",
    "df_trips_test_prepared = pd.DataFrame(trips_test_prepared,\n",
    "                                       columns=preprocessing.get_feature_names_out(),\n",
    "                                       index=trips_test.index)\n",
    "df_trips_test_prepared.head(2)"
   ]
  },
  {
   "cell_type": "code",
   "execution_count": 20,
   "metadata": {},
   "outputs": [
    {
     "data": {
      "text/plain": [
       "(100000, 24)"
      ]
     },
     "execution_count": 20,
     "metadata": {},
     "output_type": "execute_result"
    }
   ],
   "source": [
    "df_trips_train_prepared.shape"
   ]
  },
  {
   "cell_type": "code",
   "execution_count": 21,
   "metadata": {},
   "outputs": [],
   "source": [
    "# Initialize the model\n",
    "tf.random.set_seed(42) # set a tf random seed to make the result reproducible: i.e, the random weights of hidden layers and output layer will be the same everywhere\n",
    "\n",
    "model = tf.keras.Sequential([\n",
    "    tf.keras.layers.InputLayer(shape=(24,)),\n",
    "    tf.keras.layers.Dense(1) # output layer\n",
    "])\n",
    "\n",
    "# Adam optmizer with lr=0.03\n",
    "optimizer = tf.keras.optimizers.Adam(learning_rate=1e-3)\n",
    "model.compile(loss=\"mae\", optimizer=optimizer, metrics=[\"RootMeanSquaredError\"])\n"
   ]
  },
  {
   "cell_type": "code",
   "execution_count": 22,
   "metadata": {},
   "outputs": [
    {
     "data": {
      "text/html": [
       "<pre style=\"white-space:pre;overflow-x:auto;line-height:normal;font-family:Menlo,'DejaVu Sans Mono',consolas,'Courier New',monospace\"><span style=\"font-weight: bold\">Model: \"sequential\"</span>\n",
       "</pre>\n"
      ],
      "text/plain": [
       "\u001b[1mModel: \"sequential\"\u001b[0m\n"
      ]
     },
     "metadata": {},
     "output_type": "display_data"
    },
    {
     "data": {
      "text/html": [
       "<pre style=\"white-space:pre;overflow-x:auto;line-height:normal;font-family:Menlo,'DejaVu Sans Mono',consolas,'Courier New',monospace\">┏━━━━━━━━━━━━━━━━━━━━━━━━━━━━━━━━━┳━━━━━━━━━━━━━━━━━━━━━━━━┳━━━━━━━━━━━━━━━┓\n",
       "┃<span style=\"font-weight: bold\"> Layer (type)                    </span>┃<span style=\"font-weight: bold\"> Output Shape           </span>┃<span style=\"font-weight: bold\">       Param # </span>┃\n",
       "┡━━━━━━━━━━━━━━━━━━━━━━━━━━━━━━━━━╇━━━━━━━━━━━━━━━━━━━━━━━━╇━━━━━━━━━━━━━━━┩\n",
       "│ dense (<span style=\"color: #0087ff; text-decoration-color: #0087ff\">Dense</span>)                   │ (<span style=\"color: #00d7ff; text-decoration-color: #00d7ff\">None</span>, <span style=\"color: #00af00; text-decoration-color: #00af00\">1</span>)              │            <span style=\"color: #00af00; text-decoration-color: #00af00\">25</span> │\n",
       "└─────────────────────────────────┴────────────────────────┴───────────────┘\n",
       "</pre>\n"
      ],
      "text/plain": [
       "┏━━━━━━━━━━━━━━━━━━━━━━━━━━━━━━━━━┳━━━━━━━━━━━━━━━━━━━━━━━━┳━━━━━━━━━━━━━━━┓\n",
       "┃\u001b[1m \u001b[0m\u001b[1mLayer (type)                   \u001b[0m\u001b[1m \u001b[0m┃\u001b[1m \u001b[0m\u001b[1mOutput Shape          \u001b[0m\u001b[1m \u001b[0m┃\u001b[1m \u001b[0m\u001b[1m      Param #\u001b[0m\u001b[1m \u001b[0m┃\n",
       "┡━━━━━━━━━━━━━━━━━━━━━━━━━━━━━━━━━╇━━━━━━━━━━━━━━━━━━━━━━━━╇━━━━━━━━━━━━━━━┩\n",
       "│ dense (\u001b[38;5;33mDense\u001b[0m)                   │ (\u001b[38;5;45mNone\u001b[0m, \u001b[38;5;34m1\u001b[0m)              │            \u001b[38;5;34m25\u001b[0m │\n",
       "└─────────────────────────────────┴────────────────────────┴───────────────┘\n"
      ]
     },
     "metadata": {},
     "output_type": "display_data"
    },
    {
     "data": {
      "text/html": [
       "<pre style=\"white-space:pre;overflow-x:auto;line-height:normal;font-family:Menlo,'DejaVu Sans Mono',consolas,'Courier New',monospace\"><span style=\"font-weight: bold\"> Total params: </span><span style=\"color: #00af00; text-decoration-color: #00af00\">25</span> (100.00 B)\n",
       "</pre>\n"
      ],
      "text/plain": [
       "\u001b[1m Total params: \u001b[0m\u001b[38;5;34m25\u001b[0m (100.00 B)\n"
      ]
     },
     "metadata": {},
     "output_type": "display_data"
    },
    {
     "data": {
      "text/html": [
       "<pre style=\"white-space:pre;overflow-x:auto;line-height:normal;font-family:Menlo,'DejaVu Sans Mono',consolas,'Courier New',monospace\"><span style=\"font-weight: bold\"> Trainable params: </span><span style=\"color: #00af00; text-decoration-color: #00af00\">25</span> (100.00 B)\n",
       "</pre>\n"
      ],
      "text/plain": [
       "\u001b[1m Trainable params: \u001b[0m\u001b[38;5;34m25\u001b[0m (100.00 B)\n"
      ]
     },
     "metadata": {},
     "output_type": "display_data"
    },
    {
     "data": {
      "text/html": [
       "<pre style=\"white-space:pre;overflow-x:auto;line-height:normal;font-family:Menlo,'DejaVu Sans Mono',consolas,'Courier New',monospace\"><span style=\"font-weight: bold\"> Non-trainable params: </span><span style=\"color: #00af00; text-decoration-color: #00af00\">0</span> (0.00 B)\n",
       "</pre>\n"
      ],
      "text/plain": [
       "\u001b[1m Non-trainable params: \u001b[0m\u001b[38;5;34m0\u001b[0m (0.00 B)\n"
      ]
     },
     "metadata": {},
     "output_type": "display_data"
    }
   ],
   "source": [
    "model.summary()"
   ]
  },
  {
   "cell_type": "code",
   "execution_count": 23,
   "metadata": {},
   "outputs": [
    {
     "data": {
      "text/plain": [
       "(100000, 24)"
      ]
     },
     "execution_count": 23,
     "metadata": {},
     "output_type": "execute_result"
    }
   ],
   "source": [
    "df_trips_train_prepared.shape"
   ]
  },
  {
   "cell_type": "code",
   "execution_count": 24,
   "metadata": {},
   "outputs": [
    {
     "data": {
      "text/plain": [
       "(20000, 24)"
      ]
     },
     "execution_count": 24,
     "metadata": {},
     "output_type": "execute_result"
    }
   ],
   "source": [
    "df_trips_test_prepared.shape"
   ]
  },
  {
   "cell_type": "markdown",
   "metadata": {},
   "source": [
    "#### Add callbacks"
   ]
  },
  {
   "cell_type": "code",
   "execution_count": 25,
   "metadata": {},
   "outputs": [],
   "source": [
    "# stop training if no progress on the validation set and roll back to the best model after training\n",
    "early_stopping_cb = tf.keras.callbacks.EarlyStopping(patience=10,\n",
    "                                                    restore_best_weights=True)"
   ]
  },
  {
   "cell_type": "code",
   "execution_count": 26,
   "metadata": {},
   "outputs": [],
   "source": [
    "# create log directory for Tensor board (dont profile for each batch to save memory)\n",
    "from pathlib import Path\n",
    "from time import strftime\n",
    "\n",
    "def get_run_logdir(root_logdir=\"my_logs\"):\n",
    "    return Path(root_logdir) / strftime(\"run_%Y_%m_%d_%H_%M_%S\")\n",
    "\n",
    "run_logdir = get_run_logdir()\n",
    "\n",
    "tensorboard_cb = tf.keras.callbacks.TensorBoard(run_logdir,\n",
    "                                                profile_batch=(100, 200))"
   ]
  },
  {
   "cell_type": "code",
   "execution_count": 27,
   "metadata": {},
   "outputs": [],
   "source": [
    "\n",
    "# %load_ext tensorboard # load the tensor board \n",
    "# %tensorboard --logdir=./my_logs # start the tensorboard server for my_logs directory"
   ]
  },
  {
   "cell_type": "code",
   "execution_count": 28,
   "metadata": {},
   "outputs": [
    {
     "name": "stdout",
     "output_type": "stream",
     "text": [
      "Epoch 1/100\n",
      "\u001b[1m3125/3125\u001b[0m \u001b[32m━━━━━━━━━━━━━━━━━━━━\u001b[0m\u001b[37m\u001b[0m \u001b[1m8s\u001b[0m 2ms/step - RootMeanSquaredError: 62.5874 - loss: 14.1241 - val_RootMeanSquaredError: 68.3179 - val_loss: 10.6892\n",
      "Epoch 2/100\n",
      "\u001b[1m3125/3125\u001b[0m \u001b[32m━━━━━━━━━━━━━━━━━━━━\u001b[0m\u001b[37m\u001b[0m \u001b[1m7s\u001b[0m 2ms/step - RootMeanSquaredError: 61.1087 - loss: 8.9057 - val_RootMeanSquaredError: 67.5496 - val_loss: 7.2884\n",
      "Epoch 3/100\n",
      "\u001b[1m3125/3125\u001b[0m \u001b[32m━━━━━━━━━━━━━━━━━━━━\u001b[0m\u001b[37m\u001b[0m \u001b[1m9s\u001b[0m 3ms/step - RootMeanSquaredError: 60.5000 - loss: 6.3962 - val_RootMeanSquaredError: 67.4263 - val_loss: 6.7355\n",
      "Epoch 4/100\n",
      "\u001b[1m3125/3125\u001b[0m \u001b[32m━━━━━━━━━━━━━━━━━━━━\u001b[0m\u001b[37m\u001b[0m \u001b[1m7s\u001b[0m 2ms/step - RootMeanSquaredError: 60.4149 - loss: 6.0093 - val_RootMeanSquaredError: 67.4207 - val_loss: 6.5952\n",
      "Epoch 5/100\n",
      "\u001b[1m3125/3125\u001b[0m \u001b[32m━━━━━━━━━━━━━━━━━━━━\u001b[0m\u001b[37m\u001b[0m \u001b[1m8s\u001b[0m 2ms/step - RootMeanSquaredError: 60.4112 - loss: 5.8777 - val_RootMeanSquaredError: 67.4275 - val_loss: 6.5140\n",
      "Epoch 6/100\n",
      "\u001b[1m3125/3125\u001b[0m \u001b[32m━━━━━━━━━━━━━━━━━━━━\u001b[0m\u001b[37m\u001b[0m \u001b[1m8s\u001b[0m 3ms/step - RootMeanSquaredError: 60.4195 - loss: 5.7971 - val_RootMeanSquaredError: 67.4358 - val_loss: 6.4526\n",
      "Epoch 7/100\n",
      "\u001b[1m3125/3125\u001b[0m \u001b[32m━━━━━━━━━━━━━━━━━━━━\u001b[0m\u001b[37m\u001b[0m \u001b[1m7s\u001b[0m 2ms/step - RootMeanSquaredError: 60.4320 - loss: 5.7340 - val_RootMeanSquaredError: 67.4454 - val_loss: 6.3969\n",
      "Epoch 8/100\n",
      "\u001b[1m3125/3125\u001b[0m \u001b[32m━━━━━━━━━━━━━━━━━━━━\u001b[0m\u001b[37m\u001b[0m \u001b[1m7s\u001b[0m 2ms/step - RootMeanSquaredError: 60.4471 - loss: 5.6783 - val_RootMeanSquaredError: 67.4557 - val_loss: 6.3457\n",
      "Epoch 9/100\n",
      "\u001b[1m3125/3125\u001b[0m \u001b[32m━━━━━━━━━━━━━━━━━━━━\u001b[0m\u001b[37m\u001b[0m \u001b[1m7s\u001b[0m 2ms/step - RootMeanSquaredError: 60.4632 - loss: 5.6276 - val_RootMeanSquaredError: 67.4668 - val_loss: 6.2974\n",
      "Epoch 10/100\n",
      "\u001b[1m3125/3125\u001b[0m \u001b[32m━━━━━━━━━━━━━━━━━━━━\u001b[0m\u001b[37m\u001b[0m \u001b[1m7s\u001b[0m 2ms/step - RootMeanSquaredError: 60.4809 - loss: 5.5803 - val_RootMeanSquaredError: 67.4793 - val_loss: 6.2527\n",
      "Epoch 11/100\n",
      "\u001b[1m3125/3125\u001b[0m \u001b[32m━━━━━━━━━━━━━━━━━━━━\u001b[0m\u001b[37m\u001b[0m \u001b[1m9s\u001b[0m 3ms/step - RootMeanSquaredError: 60.4999 - loss: 5.5379 - val_RootMeanSquaredError: 67.4935 - val_loss: 6.2115\n",
      "Epoch 12/100\n",
      "\u001b[1m3125/3125\u001b[0m \u001b[32m━━━━━━━━━━━━━━━━━━━━\u001b[0m\u001b[37m\u001b[0m \u001b[1m9s\u001b[0m 3ms/step - RootMeanSquaredError: 60.5197 - loss: 5.4988 - val_RootMeanSquaredError: 67.5083 - val_loss: 6.1727\n",
      "Epoch 13/100\n",
      "\u001b[1m3125/3125\u001b[0m \u001b[32m━━━━━━━━━━━━━━━━━━━━\u001b[0m\u001b[37m\u001b[0m \u001b[1m8s\u001b[0m 3ms/step - RootMeanSquaredError: 60.5404 - loss: 5.4625 - val_RootMeanSquaredError: 67.5232 - val_loss: 6.1373\n",
      "Epoch 14/100\n",
      "\u001b[1m3125/3125\u001b[0m \u001b[32m━━━━━━━━━━━━━━━━━━━━\u001b[0m\u001b[37m\u001b[0m \u001b[1m8s\u001b[0m 2ms/step - RootMeanSquaredError: 60.5615 - loss: 5.4282 - val_RootMeanSquaredError: 67.5389 - val_loss: 6.1040\n",
      "Epoch 15/100\n",
      "\u001b[1m3125/3125\u001b[0m \u001b[32m━━━━━━━━━━━━━━━━━━━━\u001b[0m\u001b[37m\u001b[0m \u001b[1m9s\u001b[0m 3ms/step - RootMeanSquaredError: 60.5837 - loss: 5.3961 - val_RootMeanSquaredError: 67.5557 - val_loss: 6.0728\n",
      "Epoch 16/100\n",
      "\u001b[1m3125/3125\u001b[0m \u001b[32m━━━━━━━━━━━━━━━━━━━━\u001b[0m\u001b[37m\u001b[0m \u001b[1m7s\u001b[0m 2ms/step - RootMeanSquaredError: 60.6064 - loss: 5.3663 - val_RootMeanSquaredError: 67.5727 - val_loss: 6.0437\n",
      "Epoch 17/100\n",
      "\u001b[1m3125/3125\u001b[0m \u001b[32m━━━━━━━━━━━━━━━━━━━━\u001b[0m\u001b[37m\u001b[0m \u001b[1m7s\u001b[0m 2ms/step - RootMeanSquaredError: 60.6293 - loss: 5.3386 - val_RootMeanSquaredError: 67.5905 - val_loss: 6.0162\n",
      "Epoch 18/100\n",
      "\u001b[1m3125/3125\u001b[0m \u001b[32m━━━━━━━━━━━━━━━━━━━━\u001b[0m\u001b[37m\u001b[0m \u001b[1m7s\u001b[0m 2ms/step - RootMeanSquaredError: 60.6527 - loss: 5.3126 - val_RootMeanSquaredError: 67.6086 - val_loss: 5.9904\n",
      "Epoch 19/100\n",
      "\u001b[1m3125/3125\u001b[0m \u001b[32m━━━━━━━━━━━━━━━━━━━━\u001b[0m\u001b[37m\u001b[0m \u001b[1m8s\u001b[0m 3ms/step - RootMeanSquaredError: 60.6765 - loss: 5.2885 - val_RootMeanSquaredError: 67.6265 - val_loss: 5.9671\n",
      "Epoch 20/100\n",
      "\u001b[1m3125/3125\u001b[0m \u001b[32m━━━━━━━━━━━━━━━━━━━━\u001b[0m\u001b[37m\u001b[0m \u001b[1m8s\u001b[0m 3ms/step - RootMeanSquaredError: 60.7003 - loss: 5.2657 - val_RootMeanSquaredError: 67.6452 - val_loss: 5.9449\n",
      "Epoch 21/100\n",
      "\u001b[1m3125/3125\u001b[0m \u001b[32m━━━━━━━━━━━━━━━━━━━━\u001b[0m\u001b[37m\u001b[0m \u001b[1m7s\u001b[0m 2ms/step - RootMeanSquaredError: 60.7242 - loss: 5.2444 - val_RootMeanSquaredError: 67.6643 - val_loss: 5.9240\n",
      "Epoch 22/100\n",
      "\u001b[1m3125/3125\u001b[0m \u001b[32m━━━━━━━━━━━━━━━━━━━━\u001b[0m\u001b[37m\u001b[0m \u001b[1m9s\u001b[0m 3ms/step - RootMeanSquaredError: 60.7483 - loss: 5.2246 - val_RootMeanSquaredError: 67.6829 - val_loss: 5.9053\n",
      "Epoch 23/100\n",
      "\u001b[1m3125/3125\u001b[0m \u001b[32m━━━━━━━━━━━━━━━━━━━━\u001b[0m\u001b[37m\u001b[0m \u001b[1m8s\u001b[0m 2ms/step - RootMeanSquaredError: 60.7720 - loss: 5.2062 - val_RootMeanSquaredError: 67.7015 - val_loss: 5.8883\n",
      "Epoch 24/100\n",
      "\u001b[1m3125/3125\u001b[0m \u001b[32m━━━━━━━━━━━━━━━━━━━━\u001b[0m\u001b[37m\u001b[0m \u001b[1m13s\u001b[0m 3ms/step - RootMeanSquaredError: 60.7955 - loss: 5.1893 - val_RootMeanSquaredError: 67.7197 - val_loss: 5.8726\n",
      "Epoch 25/100\n",
      "\u001b[1m3125/3125\u001b[0m \u001b[32m━━━━━━━━━━━━━━━━━━━━\u001b[0m\u001b[37m\u001b[0m \u001b[1m20s\u001b[0m 3ms/step - RootMeanSquaredError: 60.8183 - loss: 5.1737 - val_RootMeanSquaredError: 67.7374 - val_loss: 5.8588\n",
      "Epoch 26/100\n",
      "\u001b[1m3125/3125\u001b[0m \u001b[32m━━━━━━━━━━━━━━━━━━━━\u001b[0m\u001b[37m\u001b[0m \u001b[1m9s\u001b[0m 3ms/step - RootMeanSquaredError: 60.8406 - loss: 5.1595 - val_RootMeanSquaredError: 67.7543 - val_loss: 5.8462\n",
      "Epoch 27/100\n",
      "\u001b[1m3125/3125\u001b[0m \u001b[32m━━━━━━━━━━━━━━━━━━━━\u001b[0m\u001b[37m\u001b[0m \u001b[1m12s\u001b[0m 3ms/step - RootMeanSquaredError: 60.8619 - loss: 5.1467 - val_RootMeanSquaredError: 67.7707 - val_loss: 5.8351\n",
      "Epoch 28/100\n",
      "\u001b[1m3125/3125\u001b[0m \u001b[32m━━━━━━━━━━━━━━━━━━━━\u001b[0m\u001b[37m\u001b[0m \u001b[1m9s\u001b[0m 3ms/step - RootMeanSquaredError: 60.8824 - loss: 5.1350 - val_RootMeanSquaredError: 67.7870 - val_loss: 5.8248\n",
      "Epoch 29/100\n",
      "\u001b[1m3125/3125\u001b[0m \u001b[32m━━━━━━━━━━━━━━━━━━━━\u001b[0m\u001b[37m\u001b[0m \u001b[1m10s\u001b[0m 3ms/step - RootMeanSquaredError: 60.9025 - loss: 5.1246 - val_RootMeanSquaredError: 67.8027 - val_loss: 5.8148\n",
      "Epoch 30/100\n",
      "\u001b[1m3125/3125\u001b[0m \u001b[32m━━━━━━━━━━━━━━━━━━━━\u001b[0m\u001b[37m\u001b[0m \u001b[1m8s\u001b[0m 2ms/step - RootMeanSquaredError: 60.9215 - loss: 5.1152 - val_RootMeanSquaredError: 67.8176 - val_loss: 5.8061\n",
      "Epoch 31/100\n",
      "\u001b[1m3125/3125\u001b[0m \u001b[32m━━━━━━━━━━━━━━━━━━━━\u001b[0m\u001b[37m\u001b[0m \u001b[1m7s\u001b[0m 2ms/step - RootMeanSquaredError: 60.9396 - loss: 5.1069 - val_RootMeanSquaredError: 67.8317 - val_loss: 5.7984\n",
      "Epoch 32/100\n",
      "\u001b[1m3125/3125\u001b[0m \u001b[32m━━━━━━━━━━━━━━━━━━━━\u001b[0m\u001b[37m\u001b[0m \u001b[1m11s\u001b[0m 3ms/step - RootMeanSquaredError: 60.9568 - loss: 5.0995 - val_RootMeanSquaredError: 67.8450 - val_loss: 5.7916\n",
      "Epoch 33/100\n",
      "\u001b[1m3125/3125\u001b[0m \u001b[32m━━━━━━━━━━━━━━━━━━━━\u001b[0m\u001b[37m\u001b[0m \u001b[1m8s\u001b[0m 3ms/step - RootMeanSquaredError: 60.9730 - loss: 5.0930 - val_RootMeanSquaredError: 67.8572 - val_loss: 5.7860\n",
      "Epoch 34/100\n",
      "\u001b[1m3125/3125\u001b[0m \u001b[32m━━━━━━━━━━━━━━━━━━━━\u001b[0m\u001b[37m\u001b[0m \u001b[1m8s\u001b[0m 2ms/step - RootMeanSquaredError: 60.9882 - loss: 5.0874 - val_RootMeanSquaredError: 67.8689 - val_loss: 5.7807\n",
      "Epoch 35/100\n",
      "\u001b[1m3125/3125\u001b[0m \u001b[32m━━━━━━━━━━━━━━━━━━━━\u001b[0m\u001b[37m\u001b[0m \u001b[1m8s\u001b[0m 2ms/step - RootMeanSquaredError: 61.0022 - loss: 5.0825 - val_RootMeanSquaredError: 67.8795 - val_loss: 5.7769\n",
      "Epoch 36/100\n",
      "\u001b[1m3125/3125\u001b[0m \u001b[32m━━━━━━━━━━━━━━━━━━━━\u001b[0m\u001b[37m\u001b[0m \u001b[1m8s\u001b[0m 3ms/step - RootMeanSquaredError: 61.0150 - loss: 5.0784 - val_RootMeanSquaredError: 67.8893 - val_loss: 5.7731\n",
      "Epoch 37/100\n",
      "\u001b[1m3125/3125\u001b[0m \u001b[32m━━━━━━━━━━━━━━━━━━━━\u001b[0m\u001b[37m\u001b[0m \u001b[1m8s\u001b[0m 2ms/step - RootMeanSquaredError: 61.0271 - loss: 5.0749 - val_RootMeanSquaredError: 67.8979 - val_loss: 5.7707\n",
      "Epoch 38/100\n",
      "\u001b[1m3125/3125\u001b[0m \u001b[32m━━━━━━━━━━━━━━━━━━━━\u001b[0m\u001b[37m\u001b[0m \u001b[1m8s\u001b[0m 3ms/step - RootMeanSquaredError: 61.0378 - loss: 5.0719 - val_RootMeanSquaredError: 67.9062 - val_loss: 5.7674\n",
      "Epoch 39/100\n",
      "\u001b[1m3125/3125\u001b[0m \u001b[32m━━━━━━━━━━━━━━━━━━━━\u001b[0m\u001b[37m\u001b[0m \u001b[1m8s\u001b[0m 3ms/step - RootMeanSquaredError: 61.0476 - loss: 5.0695 - val_RootMeanSquaredError: 67.9136 - val_loss: 5.7644\n",
      "Epoch 40/100\n",
      "\u001b[1m3125/3125\u001b[0m \u001b[32m━━━━━━━━━━━━━━━━━━━━\u001b[0m\u001b[37m\u001b[0m \u001b[1m10s\u001b[0m 3ms/step - RootMeanSquaredError: 61.0561 - loss: 5.0675 - val_RootMeanSquaredError: 67.9198 - val_loss: 5.7627\n",
      "Epoch 41/100\n",
      "\u001b[1m3125/3125\u001b[0m \u001b[32m━━━━━━━━━━━━━━━━━━━━\u001b[0m\u001b[37m\u001b[0m \u001b[1m10s\u001b[0m 3ms/step - RootMeanSquaredError: 61.0636 - loss: 5.0657 - val_RootMeanSquaredError: 67.9247 - val_loss: 5.7618\n",
      "Epoch 42/100\n",
      "\u001b[1m3125/3125\u001b[0m \u001b[32m━━━━━━━━━━━━━━━━━━━━\u001b[0m\u001b[37m\u001b[0m \u001b[1m11s\u001b[0m 3ms/step - RootMeanSquaredError: 61.0701 - loss: 5.0642 - val_RootMeanSquaredError: 67.9300 - val_loss: 5.7602\n",
      "Epoch 43/100\n",
      "\u001b[1m3125/3125\u001b[0m \u001b[32m━━━━━━━━━━━━━━━━━━━━\u001b[0m\u001b[37m\u001b[0m \u001b[1m9s\u001b[0m 3ms/step - RootMeanSquaredError: 61.0764 - loss: 5.0629 - val_RootMeanSquaredError: 67.9344 - val_loss: 5.7587\n",
      "Epoch 44/100\n",
      "\u001b[1m3125/3125\u001b[0m \u001b[32m━━━━━━━━━━━━━━━━━━━━\u001b[0m\u001b[37m\u001b[0m \u001b[1m10s\u001b[0m 3ms/step - RootMeanSquaredError: 61.0817 - loss: 5.0619 - val_RootMeanSquaredError: 67.9382 - val_loss: 5.7580\n",
      "Epoch 45/100\n",
      "\u001b[1m3125/3125\u001b[0m \u001b[32m━━━━━━━━━━━━━━━━━━━━\u001b[0m\u001b[37m\u001b[0m \u001b[1m10s\u001b[0m 3ms/step - RootMeanSquaredError: 61.0863 - loss: 5.0609 - val_RootMeanSquaredError: 67.9419 - val_loss: 5.7569\n",
      "Epoch 46/100\n",
      "\u001b[1m3125/3125\u001b[0m \u001b[32m━━━━━━━━━━━━━━━━━━━━\u001b[0m\u001b[37m\u001b[0m \u001b[1m9s\u001b[0m 3ms/step - RootMeanSquaredError: 61.0907 - loss: 5.0602 - val_RootMeanSquaredError: 67.9446 - val_loss: 5.7563\n",
      "Epoch 47/100\n",
      "\u001b[1m3125/3125\u001b[0m \u001b[32m━━━━━━━━━━━━━━━━━━━━\u001b[0m\u001b[37m\u001b[0m \u001b[1m9s\u001b[0m 3ms/step - RootMeanSquaredError: 61.0942 - loss: 5.0595 - val_RootMeanSquaredError: 67.9473 - val_loss: 5.7557\n",
      "Epoch 48/100\n",
      "\u001b[1m3125/3125\u001b[0m \u001b[32m━━━━━━━━━━━━━━━━━━━━\u001b[0m\u001b[37m\u001b[0m \u001b[1m11s\u001b[0m 3ms/step - RootMeanSquaredError: 61.0974 - loss: 5.0588 - val_RootMeanSquaredError: 67.9494 - val_loss: 5.7554\n",
      "Epoch 49/100\n",
      "\u001b[1m3125/3125\u001b[0m \u001b[32m━━━━━━━━━━━━━━━━━━━━\u001b[0m\u001b[37m\u001b[0m \u001b[1m11s\u001b[0m 3ms/step - RootMeanSquaredError: 61.1003 - loss: 5.0583 - val_RootMeanSquaredError: 67.9515 - val_loss: 5.7548\n",
      "Epoch 50/100\n",
      "\u001b[1m3125/3125\u001b[0m \u001b[32m━━━━━━━━━━━━━━━━━━━━\u001b[0m\u001b[37m\u001b[0m \u001b[1m10s\u001b[0m 3ms/step - RootMeanSquaredError: 61.1030 - loss: 5.0579 - val_RootMeanSquaredError: 67.9535 - val_loss: 5.7549\n",
      "Epoch 51/100\n",
      "\u001b[1m3125/3125\u001b[0m \u001b[32m━━━━━━━━━━━━━━━━━━━━\u001b[0m\u001b[37m\u001b[0m \u001b[1m10s\u001b[0m 3ms/step - RootMeanSquaredError: 61.1054 - loss: 5.0574 - val_RootMeanSquaredError: 67.9550 - val_loss: 5.7545\n",
      "Epoch 52/100\n",
      "\u001b[1m3125/3125\u001b[0m \u001b[32m━━━━━━━━━━━━━━━━━━━━\u001b[0m\u001b[37m\u001b[0m \u001b[1m11s\u001b[0m 3ms/step - RootMeanSquaredError: 61.1076 - loss: 5.0570 - val_RootMeanSquaredError: 67.9565 - val_loss: 5.7542\n",
      "Epoch 53/100\n",
      "\u001b[1m3125/3125\u001b[0m \u001b[32m━━━━━━━━━━━━━━━━━━━━\u001b[0m\u001b[37m\u001b[0m \u001b[1m9s\u001b[0m 3ms/step - RootMeanSquaredError: 61.1095 - loss: 5.0566 - val_RootMeanSquaredError: 67.9581 - val_loss: 5.7540\n",
      "Epoch 54/100\n",
      "\u001b[1m3125/3125\u001b[0m \u001b[32m━━━━━━━━━━━━━━━━━━━━\u001b[0m\u001b[37m\u001b[0m \u001b[1m9s\u001b[0m 3ms/step - RootMeanSquaredError: 61.1114 - loss: 5.0563 - val_RootMeanSquaredError: 67.9591 - val_loss: 5.7540\n",
      "Epoch 55/100\n",
      "\u001b[1m3125/3125\u001b[0m \u001b[32m━━━━━━━━━━━━━━━━━━━━\u001b[0m\u001b[37m\u001b[0m \u001b[1m9s\u001b[0m 3ms/step - RootMeanSquaredError: 61.1129 - loss: 5.0560 - val_RootMeanSquaredError: 67.9602 - val_loss: 5.7539\n",
      "Epoch 56/100\n",
      "\u001b[1m3125/3125\u001b[0m \u001b[32m━━━━━━━━━━━━━━━━━━━━\u001b[0m\u001b[37m\u001b[0m \u001b[1m10s\u001b[0m 3ms/step - RootMeanSquaredError: 61.1143 - loss: 5.0557 - val_RootMeanSquaredError: 67.9610 - val_loss: 5.7537\n",
      "Epoch 57/100\n",
      "\u001b[1m3125/3125\u001b[0m \u001b[32m━━━━━━━━━━━━━━━━━━━━\u001b[0m\u001b[37m\u001b[0m \u001b[1m7s\u001b[0m 2ms/step - RootMeanSquaredError: 61.1155 - loss: 5.0554 - val_RootMeanSquaredError: 67.9618 - val_loss: 5.7536\n",
      "Epoch 58/100\n",
      "\u001b[1m3125/3125\u001b[0m \u001b[32m━━━━━━━━━━━━━━━━━━━━\u001b[0m\u001b[37m\u001b[0m \u001b[1m11s\u001b[0m 3ms/step - RootMeanSquaredError: 61.1166 - loss: 5.0552 - val_RootMeanSquaredError: 67.9627 - val_loss: 5.7532\n",
      "Epoch 59/100\n",
      "\u001b[1m3125/3125\u001b[0m \u001b[32m━━━━━━━━━━━━━━━━━━━━\u001b[0m\u001b[37m\u001b[0m \u001b[1m7s\u001b[0m 2ms/step - RootMeanSquaredError: 61.1177 - loss: 5.0550 - val_RootMeanSquaredError: 67.9634 - val_loss: 5.7529\n",
      "Epoch 60/100\n",
      "\u001b[1m3125/3125\u001b[0m \u001b[32m━━━━━━━━━━━━━━━━━━━━\u001b[0m\u001b[37m\u001b[0m \u001b[1m7s\u001b[0m 2ms/step - RootMeanSquaredError: 61.1186 - loss: 5.0548 - val_RootMeanSquaredError: 67.9640 - val_loss: 5.7529\n",
      "Epoch 61/100\n",
      "\u001b[1m3125/3125\u001b[0m \u001b[32m━━━━━━━━━━━━━━━━━━━━\u001b[0m\u001b[37m\u001b[0m \u001b[1m7s\u001b[0m 2ms/step - RootMeanSquaredError: 61.1195 - loss: 5.0546 - val_RootMeanSquaredError: 67.9646 - val_loss: 5.7529\n",
      "Epoch 62/100\n",
      "\u001b[1m3125/3125\u001b[0m \u001b[32m━━━━━━━━━━━━━━━━━━━━\u001b[0m\u001b[37m\u001b[0m \u001b[1m7s\u001b[0m 2ms/step - RootMeanSquaredError: 61.1203 - loss: 5.0543 - val_RootMeanSquaredError: 67.9650 - val_loss: 5.7528\n",
      "Epoch 63/100\n",
      "\u001b[1m3125/3125\u001b[0m \u001b[32m━━━━━━━━━━━━━━━━━━━━\u001b[0m\u001b[37m\u001b[0m \u001b[1m7s\u001b[0m 2ms/step - RootMeanSquaredError: 61.1210 - loss: 5.0541 - val_RootMeanSquaredError: 67.9653 - val_loss: 5.7529\n",
      "Epoch 64/100\n",
      "\u001b[1m3125/3125\u001b[0m \u001b[32m━━━━━━━━━━━━━━━━━━━━\u001b[0m\u001b[37m\u001b[0m \u001b[1m7s\u001b[0m 2ms/step - RootMeanSquaredError: 61.1215 - loss: 5.0539 - val_RootMeanSquaredError: 67.9657 - val_loss: 5.7529\n",
      "Epoch 65/100\n",
      "\u001b[1m3125/3125\u001b[0m \u001b[32m━━━━━━━━━━━━━━━━━━━━\u001b[0m\u001b[37m\u001b[0m \u001b[1m7s\u001b[0m 2ms/step - RootMeanSquaredError: 61.1220 - loss: 5.0537 - val_RootMeanSquaredError: 67.9660 - val_loss: 5.7528\n",
      "Epoch 66/100\n",
      "\u001b[1m3125/3125\u001b[0m \u001b[32m━━━━━━━━━━━━━━━━━━━━\u001b[0m\u001b[37m\u001b[0m \u001b[1m7s\u001b[0m 2ms/step - RootMeanSquaredError: 61.1226 - loss: 5.0535 - val_RootMeanSquaredError: 67.9665 - val_loss: 5.7526\n",
      "Epoch 67/100\n",
      "\u001b[1m3125/3125\u001b[0m \u001b[32m━━━━━━━━━━━━━━━━━━━━\u001b[0m\u001b[37m\u001b[0m \u001b[1m10s\u001b[0m 2ms/step - RootMeanSquaredError: 61.1231 - loss: 5.0533 - val_RootMeanSquaredError: 67.9668 - val_loss: 5.7524\n",
      "Epoch 68/100\n",
      "\u001b[1m3125/3125\u001b[0m \u001b[32m━━━━━━━━━━━━━━━━━━━━\u001b[0m\u001b[37m\u001b[0m \u001b[1m8s\u001b[0m 2ms/step - RootMeanSquaredError: 61.1235 - loss: 5.0531 - val_RootMeanSquaredError: 67.9671 - val_loss: 5.7523\n",
      "Epoch 69/100\n",
      "\u001b[1m3125/3125\u001b[0m \u001b[32m━━━━━━━━━━━━━━━━━━━━\u001b[0m\u001b[37m\u001b[0m \u001b[1m7s\u001b[0m 2ms/step - RootMeanSquaredError: 61.1240 - loss: 5.0529 - val_RootMeanSquaredError: 67.9673 - val_loss: 5.7525\n",
      "Epoch 70/100\n",
      "\u001b[1m3125/3125\u001b[0m \u001b[32m━━━━━━━━━━━━━━━━━━━━\u001b[0m\u001b[37m\u001b[0m \u001b[1m7s\u001b[0m 2ms/step - RootMeanSquaredError: 61.1244 - loss: 5.0528 - val_RootMeanSquaredError: 67.9676 - val_loss: 5.7523\n",
      "Epoch 71/100\n",
      "\u001b[1m3125/3125\u001b[0m \u001b[32m━━━━━━━━━━━━━━━━━━━━\u001b[0m\u001b[37m\u001b[0m \u001b[1m8s\u001b[0m 2ms/step - RootMeanSquaredError: 61.1249 - loss: 5.0526 - val_RootMeanSquaredError: 67.9678 - val_loss: 5.7523\n",
      "Epoch 72/100\n",
      "\u001b[1m3125/3125\u001b[0m \u001b[32m━━━━━━━━━━━━━━━━━━━━\u001b[0m\u001b[37m\u001b[0m \u001b[1m8s\u001b[0m 2ms/step - RootMeanSquaredError: 61.1252 - loss: 5.0524 - val_RootMeanSquaredError: 67.9682 - val_loss: 5.7520\n",
      "Epoch 73/100\n",
      "\u001b[1m3125/3125\u001b[0m \u001b[32m━━━━━━━━━━━━━━━━━━━━\u001b[0m\u001b[37m\u001b[0m \u001b[1m10s\u001b[0m 2ms/step - RootMeanSquaredError: 61.1257 - loss: 5.0523 - val_RootMeanSquaredError: 67.9683 - val_loss: 5.7523\n",
      "Epoch 74/100\n",
      "\u001b[1m3125/3125\u001b[0m \u001b[32m━━━━━━━━━━━━━━━━━━━━\u001b[0m\u001b[37m\u001b[0m \u001b[1m9s\u001b[0m 3ms/step - RootMeanSquaredError: 61.1261 - loss: 5.0521 - val_RootMeanSquaredError: 67.9686 - val_loss: 5.7521\n",
      "Epoch 75/100\n",
      "\u001b[1m3125/3125\u001b[0m \u001b[32m━━━━━━━━━━━━━━━━━━━━\u001b[0m\u001b[37m\u001b[0m \u001b[1m8s\u001b[0m 3ms/step - RootMeanSquaredError: 61.1265 - loss: 5.0520 - val_RootMeanSquaredError: 67.9689 - val_loss: 5.7522\n",
      "Epoch 76/100\n",
      "\u001b[1m3125/3125\u001b[0m \u001b[32m━━━━━━━━━━━━━━━━━━━━\u001b[0m\u001b[37m\u001b[0m \u001b[1m15s\u001b[0m 4ms/step - RootMeanSquaredError: 61.1269 - loss: 5.0518 - val_RootMeanSquaredError: 67.9692 - val_loss: 5.7519\n",
      "Epoch 77/100\n",
      "\u001b[1m3125/3125\u001b[0m \u001b[32m━━━━━━━━━━━━━━━━━━━━\u001b[0m\u001b[37m\u001b[0m \u001b[1m15s\u001b[0m 2ms/step - RootMeanSquaredError: 61.1273 - loss: 5.0516 - val_RootMeanSquaredError: 67.9694 - val_loss: 5.7520\n",
      "Epoch 78/100\n",
      "\u001b[1m3125/3125\u001b[0m \u001b[32m━━━━━━━━━━━━━━━━━━━━\u001b[0m\u001b[37m\u001b[0m \u001b[1m7s\u001b[0m 2ms/step - RootMeanSquaredError: 61.1276 - loss: 5.0515 - val_RootMeanSquaredError: 67.9696 - val_loss: 5.7520\n",
      "Epoch 79/100\n",
      "\u001b[1m3125/3125\u001b[0m \u001b[32m━━━━━━━━━━━━━━━━━━━━\u001b[0m\u001b[37m\u001b[0m \u001b[1m7s\u001b[0m 2ms/step - RootMeanSquaredError: 61.1278 - loss: 5.0513 - val_RootMeanSquaredError: 67.9699 - val_loss: 5.7518\n",
      "Epoch 80/100\n",
      "\u001b[1m3125/3125\u001b[0m \u001b[32m━━━━━━━━━━━━━━━━━━━━\u001b[0m\u001b[37m\u001b[0m \u001b[1m7s\u001b[0m 2ms/step - RootMeanSquaredError: 61.1281 - loss: 5.0512 - val_RootMeanSquaredError: 67.9700 - val_loss: 5.7516\n",
      "Epoch 81/100\n",
      "\u001b[1m3125/3125\u001b[0m \u001b[32m━━━━━━━━━━━━━━━━━━━━\u001b[0m\u001b[37m\u001b[0m \u001b[1m7s\u001b[0m 2ms/step - RootMeanSquaredError: 61.1283 - loss: 5.0510 - val_RootMeanSquaredError: 67.9702 - val_loss: 5.7515\n",
      "Epoch 82/100\n",
      "\u001b[1m3125/3125\u001b[0m \u001b[32m━━━━━━━━━━━━━━━━━━━━\u001b[0m\u001b[37m\u001b[0m \u001b[1m8s\u001b[0m 3ms/step - RootMeanSquaredError: 61.1285 - loss: 5.0509 - val_RootMeanSquaredError: 67.9702 - val_loss: 5.7518\n",
      "Epoch 83/100\n",
      "\u001b[1m3125/3125\u001b[0m \u001b[32m━━━━━━━━━━━━━━━━━━━━\u001b[0m\u001b[37m\u001b[0m \u001b[1m10s\u001b[0m 2ms/step - RootMeanSquaredError: 61.1287 - loss: 5.0507 - val_RootMeanSquaredError: 67.9703 - val_loss: 5.7517\n",
      "Epoch 84/100\n",
      "\u001b[1m3125/3125\u001b[0m \u001b[32m━━━━━━━━━━━━━━━━━━━━\u001b[0m\u001b[37m\u001b[0m \u001b[1m8s\u001b[0m 2ms/step - RootMeanSquaredError: 61.1289 - loss: 5.0506 - val_RootMeanSquaredError: 67.9705 - val_loss: 5.7516\n",
      "Epoch 85/100\n",
      "\u001b[1m3125/3125\u001b[0m \u001b[32m━━━━━━━━━━━━━━━━━━━━\u001b[0m\u001b[37m\u001b[0m \u001b[1m7s\u001b[0m 2ms/step - RootMeanSquaredError: 61.1290 - loss: 5.0504 - val_RootMeanSquaredError: 67.9705 - val_loss: 5.7516\n",
      "Epoch 86/100\n",
      "\u001b[1m3125/3125\u001b[0m \u001b[32m━━━━━━━━━━━━━━━━━━━━\u001b[0m\u001b[37m\u001b[0m \u001b[1m7s\u001b[0m 2ms/step - RootMeanSquaredError: 61.1291 - loss: 5.0503 - val_RootMeanSquaredError: 67.9705 - val_loss: 5.7518\n",
      "Epoch 87/100\n",
      "\u001b[1m3125/3125\u001b[0m \u001b[32m━━━━━━━━━━━━━━━━━━━━\u001b[0m\u001b[37m\u001b[0m \u001b[1m7s\u001b[0m 2ms/step - RootMeanSquaredError: 61.1293 - loss: 5.0501 - val_RootMeanSquaredError: 67.9706 - val_loss: 5.7516\n",
      "Epoch 88/100\n",
      "\u001b[1m3125/3125\u001b[0m \u001b[32m━━━━━━━━━━━━━━━━━━━━\u001b[0m\u001b[37m\u001b[0m \u001b[1m8s\u001b[0m 3ms/step - RootMeanSquaredError: 61.1294 - loss: 5.0500 - val_RootMeanSquaredError: 67.9706 - val_loss: 5.7518\n",
      "Epoch 89/100\n",
      "\u001b[1m3125/3125\u001b[0m \u001b[32m━━━━━━━━━━━━━━━━━━━━\u001b[0m\u001b[37m\u001b[0m \u001b[1m8s\u001b[0m 3ms/step - RootMeanSquaredError: 61.1295 - loss: 5.0498 - val_RootMeanSquaredError: 67.9707 - val_loss: 5.7515\n",
      "Epoch 90/100\n",
      "\u001b[1m3125/3125\u001b[0m \u001b[32m━━━━━━━━━━━━━━━━━━━━\u001b[0m\u001b[37m\u001b[0m \u001b[1m8s\u001b[0m 3ms/step - RootMeanSquaredError: 61.1296 - loss: 5.0497 - val_RootMeanSquaredError: 67.9708 - val_loss: 5.7514\n",
      "Epoch 91/100\n",
      "\u001b[1m3125/3125\u001b[0m \u001b[32m━━━━━━━━━━━━━━━━━━━━\u001b[0m\u001b[37m\u001b[0m \u001b[1m8s\u001b[0m 3ms/step - RootMeanSquaredError: 61.1297 - loss: 5.0496 - val_RootMeanSquaredError: 67.9707 - val_loss: 5.7516\n",
      "Epoch 92/100\n",
      "\u001b[1m3125/3125\u001b[0m \u001b[32m━━━━━━━━━━━━━━━━━━━━\u001b[0m\u001b[37m\u001b[0m \u001b[1m8s\u001b[0m 2ms/step - RootMeanSquaredError: 61.1298 - loss: 5.0494 - val_RootMeanSquaredError: 67.9708 - val_loss: 5.7516\n",
      "Epoch 93/100\n",
      "\u001b[1m3125/3125\u001b[0m \u001b[32m━━━━━━━━━━━━━━━━━━━━\u001b[0m\u001b[37m\u001b[0m \u001b[1m7s\u001b[0m 2ms/step - RootMeanSquaredError: 61.1298 - loss: 5.0493 - val_RootMeanSquaredError: 67.9709 - val_loss: 5.7513\n",
      "Epoch 94/100\n",
      "\u001b[1m3125/3125\u001b[0m \u001b[32m━━━━━━━━━━━━━━━━━━━━\u001b[0m\u001b[37m\u001b[0m \u001b[1m7s\u001b[0m 2ms/step - RootMeanSquaredError: 61.1299 - loss: 5.0491 - val_RootMeanSquaredError: 67.9709 - val_loss: 5.7513\n",
      "Epoch 95/100\n",
      "\u001b[1m3125/3125\u001b[0m \u001b[32m━━━━━━━━━━━━━━━━━━━━\u001b[0m\u001b[37m\u001b[0m \u001b[1m8s\u001b[0m 3ms/step - RootMeanSquaredError: 61.1300 - loss: 5.0490 - val_RootMeanSquaredError: 67.9709 - val_loss: 5.7513\n",
      "Epoch 96/100\n",
      "\u001b[1m3125/3125\u001b[0m \u001b[32m━━━━━━━━━━━━━━━━━━━━\u001b[0m\u001b[37m\u001b[0m \u001b[1m8s\u001b[0m 2ms/step - RootMeanSquaredError: 61.1301 - loss: 5.0489 - val_RootMeanSquaredError: 67.9709 - val_loss: 5.7513\n",
      "Epoch 97/100\n",
      "\u001b[1m3125/3125\u001b[0m \u001b[32m━━━━━━━━━━━━━━━━━━━━\u001b[0m\u001b[37m\u001b[0m \u001b[1m7s\u001b[0m 2ms/step - RootMeanSquaredError: 61.1301 - loss: 5.0487 - val_RootMeanSquaredError: 67.9712 - val_loss: 5.7506\n",
      "Epoch 98/100\n",
      "\u001b[1m3125/3125\u001b[0m \u001b[32m━━━━━━━━━━━━━━━━━━━━\u001b[0m\u001b[37m\u001b[0m \u001b[1m9s\u001b[0m 3ms/step - RootMeanSquaredError: 61.1302 - loss: 5.0486 - val_RootMeanSquaredError: 67.9709 - val_loss: 5.7512\n",
      "Epoch 99/100\n",
      "\u001b[1m3125/3125\u001b[0m \u001b[32m━━━━━━━━━━━━━━━━━━━━\u001b[0m\u001b[37m\u001b[0m \u001b[1m8s\u001b[0m 2ms/step - RootMeanSquaredError: 61.1302 - loss: 5.0485 - val_RootMeanSquaredError: 67.9710 - val_loss: 5.7511\n",
      "Epoch 100/100\n",
      "\u001b[1m3125/3125\u001b[0m \u001b[32m━━━━━━━━━━━━━━━━━━━━\u001b[0m\u001b[37m\u001b[0m \u001b[1m7s\u001b[0m 2ms/step - RootMeanSquaredError: 61.1303 - loss: 5.0484 - val_RootMeanSquaredError: 67.9713 - val_loss: 5.7503\n"
     ]
    },
    {
     "data": {
      "text/plain": [
       "<keras.src.callbacks.history.History at 0x1e97823b620>"
      ]
     },
     "execution_count": 28,
     "metadata": {},
     "output_type": "execute_result"
    }
   ],
   "source": [
    "model.fit(df_trips_train_prepared, \n",
    "          trips_train_label,\n",
    "          epochs=100,\n",
    "          batch_size=32,\n",
    "          validation_data=(df_trips_test_prepared, trips_test_label),\n",
    "          callbacks=[early_stopping_cb, tensorboard_cb])"
   ]
  },
  {
   "cell_type": "markdown",
   "metadata": {},
   "source": [
    "#### Save the model"
   ]
  },
  {
   "cell_type": "code",
   "execution_count": 29,
   "metadata": {},
   "outputs": [],
   "source": [
    "# saving the model\n",
    "model.save(\"models/04-03-MLP-with-no-hidden-layers-ADAM-MAE.keras\",)"
   ]
  },
  {
   "cell_type": "code",
   "execution_count": 30,
   "metadata": {},
   "outputs": [],
   "source": [
    "model = tf.keras.models.load_model(\"models/04-03-MLP-with-no-hidden-layers-ADAM-MAE.keras\")"
   ]
  },
  {
   "cell_type": "markdown",
   "metadata": {},
   "source": [
    "#### Evaluate model"
   ]
  },
  {
   "cell_type": "code",
   "execution_count": null,
   "metadata": {},
   "outputs": [],
   "source": [
    "mae_test, rmse_test = model.evaluate(df_trips_test_prepared, trips_test_label)"
   ]
  },
  {
   "cell_type": "code",
   "execution_count": null,
   "metadata": {},
   "outputs": [],
   "source": [
    "# Mean absolute error\n",
    "mae_test"
   ]
  },
  {
   "cell_type": "code",
   "execution_count": null,
   "metadata": {},
   "outputs": [],
   "source": [
    "# Root mean square error\n",
    "rmse_test"
   ]
  },
  {
   "cell_type": "code",
   "execution_count": null,
   "metadata": {},
   "outputs": [],
   "source": [
    "trips_new = df_trips_test_prepared[:5] # predict the first 5\n",
    "trips_pred = model.predict(trips_new)"
   ]
  },
  {
   "cell_type": "code",
   "execution_count": null,
   "metadata": {},
   "outputs": [],
   "source": [
    "print(\"Predicted\",trips_pred)\n",
    "print(\"Actual\",trips_test_label[:5])"
   ]
  }
 ],
 "metadata": {
  "kernelspec": {
   "display_name": "Python 3",
   "language": "python",
   "name": "python3"
  },
  "language_info": {
   "codemirror_mode": {
    "name": "ipython",
    "version": 3
   },
   "file_extension": ".py",
   "mimetype": "text/x-python",
   "name": "python",
   "nbconvert_exporter": "python",
   "pygments_lexer": "ipython3",
   "version": "3.12.2"
  }
 },
 "nbformat": 4,
 "nbformat_minor": 2
}
